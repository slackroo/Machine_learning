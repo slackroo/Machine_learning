{
 "cells": [
  {
   "cell_type": "markdown",
   "id": "3a2e0dae",
   "metadata": {},
   "source": [
    "# Clickstream data propensity model "
   ]
  },
  {
   "cell_type": "code",
   "execution_count": 2,
   "id": "f392b3ff",
   "metadata": {},
   "outputs": [
    {
     "data": {
      "text/html": [
       "\n",
       "    <script>\n",
       "    function code_toggle() {\n",
       "        if ($('div.cell.code_cell.rendered.selected div.input').css('display')!='none'){\n",
       "            $('div.cell.code_cell.rendered.selected div.input').hide();\n",
       "        } else {\n",
       "            $('div.cell.code_cell.rendered.selected div.input').show();\n",
       "        }\n",
       "    }\n",
       "    </script>\n",
       "\n",
       "\n",
       "<form action=\"javascript:code_toggle()\"><input type=\"submit\" id=\"toggleButton\" value=\"Show Sloution\"></form>\n"
      ],
      "text/plain": [
       "<IPython.core.display.HTML object>"
      ]
     },
     "metadata": {},
     "output_type": "display_data"
    }
   ],
   "source": [
    "import pandas as pd\n",
    "import numpy as np \n",
    "from toggle_cell import toggle_code as hide_sloution"
   ]
  },
  {
   "cell_type": "markdown",
   "id": "e904e146",
   "metadata": {},
   "source": [
    "## Investigation of structure, quality and content\n",
    "\n",
    "1. **Structure investigation**: Exploring the general shape of the dataset, as well as the data types of data features.\n",
    "2. **Quality investigation**: Get a feeling for the general quality of the dataset, with regards to duplicates, missing values and unwanted entries.\n",
    "3. **Content investigation**: Once the structure and quality of the dataset is understood, we can go ahead and perform a more in-depth exploration on the features values and look at how different features relate to each other.\n",
    "\n",
    "But first we need to find an interesting dataset. Let's go ahead and load the \"DVMWare Data\""
   ]
  },
  {
   "cell_type": "code",
   "execution_count": 2,
   "id": "c6d2a7a5",
   "metadata": {},
   "outputs": [
    {
     "name": "stderr",
     "output_type": "stream",
     "text": [
      "/usr/local/lib/python3.6/dist-packages/IPython/core/interactiveshell.py:3072: DtypeWarning: Columns (444,445,446,447,450,451,452,453,455,456,457,458,461,463,464,465,466,474,475,476,477,480,481,482,483,485,486,487,488,491,493,494,495,496,785) have mixed types.Specify dtype option on import or set low_memory=False.\n",
      "  interactivity=interactivity, compiler=compiler, result=result)\n"
     ]
    }
   ],
   "source": [
    "df_train=pd.read_csv('IMB_621_VMW_SERVER_CASE_DATA.csv')"
   ]
  },
  {
   "cell_type": "code",
   "execution_count": 3,
   "id": "c37c5b2e",
   "metadata": {},
   "outputs": [
    {
     "name": "stderr",
     "output_type": "stream",
     "text": [
      "/usr/local/lib/python3.6/dist-packages/IPython/core/interactiveshell.py:3072: DtypeWarning: Columns (444,445,446,447,450,451,452,453,455,456,458,461,463,464,465,468,470,474,475,476,477,480,481,482,483,485,486,488,491,493,494,495,498,500,770) have mixed types.Specify dtype option on import or set low_memory=False.\n",
      "  interactivity=interactivity, compiler=compiler, result=result)\n"
     ]
    }
   ],
   "source": [
    "df_val=pd.read_csv('VMWare Validation Dataset.csv')"
   ]
  },
  {
   "cell_type": "markdown",
   "id": "7795605d",
   "metadata": {},
   "source": [
    "# 1. Structure Investigation\n",
    "\n",
    "Before looking at the content of our feature matrix $X$, let's first look at the general structure of the dataset. For example, how many columns and rows does the dataset have?"
   ]
  },
  {
   "cell_type": "code",
   "execution_count": 4,
   "id": "2e5aed25",
   "metadata": {},
   "outputs": [
    {
     "data": {
      "text/plain": [
       "((100000, 958), (49999, 958))"
      ]
     },
     "execution_count": 4,
     "metadata": {},
     "output_type": "execute_result"
    }
   ],
   "source": [
    "df_train.shape,df_val.shape"
   ]
  },
  {
   "cell_type": "markdown",
   "id": "dc482555",
   "metadata": {},
   "source": [
    "So we know that this dataset has 100000 samples and 958 features. And how many different data types do these 958 features contain?"
   ]
  },
  {
   "cell_type": "code",
   "execution_count": 5,
   "id": "aad578f7",
   "metadata": {},
   "outputs": [
    {
     "data": {
      "text/plain": [
       "float64    590\n",
       "int64      268\n",
       "object     100\n",
       "dtype: int64"
      ]
     },
     "execution_count": 5,
     "metadata": {},
     "output_type": "execute_result"
    }
   ],
   "source": [
    "pd.value_counts(df_train.dtypes)"
   ]
  },
  {
   "cell_type": "markdown",
   "id": "314087b0",
   "metadata": {},
   "source": [
    "Looking at the data, we now know there are partially encoded columns like Board_CBSE, Board_ICSE of Board_SSC categorical variable also Degree_Engg from the Course_Degree categorical variable, missing out proper encoding of all the category types of a feature. Which we need to drop and encode them with one hot encoding correctly. \n",
    "\n",
    "</t>Also there are Encoded columns for gender and placement with Gender-B and Placement-B, of which the categorical features can be dropped."
   ]
  },
  {
   "cell_type": "markdown",
   "id": "5dc8adf7",
   "metadata": {},
   "source": [
    "## 1.1. Structure of non-numerical features\n",
    "\n",
    "Data types can be numerical and non-numerical. First, let's take a closer look at the **non-numerical** entries."
   ]
  },
  {
   "cell_type": "code",
   "execution_count": 6,
   "id": "c4171eb0",
   "metadata": {},
   "outputs": [
    {
     "data": {
      "text/html": [
       "<div>\n",
       "<style scoped>\n",
       "    .dataframe tbody tr th:only-of-type {\n",
       "        vertical-align: middle;\n",
       "    }\n",
       "\n",
       "    .dataframe tbody tr th {\n",
       "        vertical-align: top;\n",
       "    }\n",
       "\n",
       "    .dataframe thead th {\n",
       "        text-align: right;\n",
       "    }\n",
       "</style>\n",
       "<table border=\"1\" class=\"dataframe\">\n",
       "  <thead>\n",
       "    <tr style=\"text-align: right;\">\n",
       "      <th></th>\n",
       "      <th>flag</th>\n",
       "      <th>db_industry</th>\n",
       "      <th>db_city</th>\n",
       "      <th>db_companyname</th>\n",
       "      <th>db_country</th>\n",
       "      <th>db_employeerange</th>\n",
       "      <th>db_accountwatch</th>\n",
       "      <th>db_audience</th>\n",
       "      <th>db_subindustry</th>\n",
       "      <th>prodA_launch_date</th>\n",
       "      <th>...</th>\n",
       "      <th>idc_verticals</th>\n",
       "      <th>citdb_ent_it_emple</th>\n",
       "      <th>citdb_ent_server</th>\n",
       "      <th>citdb_ent_it_budget</th>\n",
       "      <th>citdb_ent_hardware_budget</th>\n",
       "      <th>load_timestamp</th>\n",
       "      <th>hyperthreading_active_flag</th>\n",
       "      <th>hv_replay_capable_flag</th>\n",
       "      <th>record_type</th>\n",
       "      <th>prodV_booking_pct</th>\n",
       "    </tr>\n",
       "  </thead>\n",
       "  <tbody>\n",
       "    <tr>\n",
       "      <th>0</th>\n",
       "      <td>t</td>\n",
       "      <td>Unknown</td>\n",
       "      <td>Stadthagen</td>\n",
       "      <td>Unitymedia</td>\n",
       "      <td>DE</td>\n",
       "      <td>NaN</td>\n",
       "      <td>NaN</td>\n",
       "      <td>Residential</td>\n",
       "      <td>NaN</td>\n",
       "      <td>1/1/2008</td>\n",
       "      <td>...</td>\n",
       "      <td>Unknown</td>\n",
       "      <td>NaN</td>\n",
       "      <td>Unknown</td>\n",
       "      <td>Unknown</td>\n",
       "      <td>NaN</td>\n",
       "      <td>6/23/2016 5:00</td>\n",
       "      <td>Y</td>\n",
       "      <td>Y</td>\n",
       "      <td>Unknown</td>\n",
       "      <td>0.5</td>\n",
       "    </tr>\n",
       "    <tr>\n",
       "      <th>1</th>\n",
       "      <td>t</td>\n",
       "      <td>Unknown</td>\n",
       "      <td>Kimitsu</td>\n",
       "      <td>FreeBit Co.,Ltd.</td>\n",
       "      <td>JP</td>\n",
       "      <td>NaN</td>\n",
       "      <td>NaN</td>\n",
       "      <td>SMB</td>\n",
       "      <td>NaN</td>\n",
       "      <td>1/1/2008</td>\n",
       "      <td>...</td>\n",
       "      <td>Unknown</td>\n",
       "      <td>NaN</td>\n",
       "      <td>Unknown</td>\n",
       "      <td>Unknown</td>\n",
       "      <td>NaN</td>\n",
       "      <td>6/23/2016 5:00</td>\n",
       "      <td>Y</td>\n",
       "      <td>Y</td>\n",
       "      <td>Unknown</td>\n",
       "      <td>0.5</td>\n",
       "    </tr>\n",
       "    <tr>\n",
       "      <th>2</th>\n",
       "      <td>t</td>\n",
       "      <td>Unknown</td>\n",
       "      <td>Kuala Lumpur</td>\n",
       "      <td>Tmnet, Telekom Malaysia Bhd.</td>\n",
       "      <td>MY</td>\n",
       "      <td>NaN</td>\n",
       "      <td>NaN</td>\n",
       "      <td>SOHO</td>\n",
       "      <td>NaN</td>\n",
       "      <td>1/1/2008</td>\n",
       "      <td>...</td>\n",
       "      <td>Unknown</td>\n",
       "      <td>NaN</td>\n",
       "      <td>Unknown</td>\n",
       "      <td>Unknown</td>\n",
       "      <td>NaN</td>\n",
       "      <td>6/23/2016 5:00</td>\n",
       "      <td>Y</td>\n",
       "      <td>Y</td>\n",
       "      <td>Unknown</td>\n",
       "      <td>0</td>\n",
       "    </tr>\n",
       "    <tr>\n",
       "      <th>3</th>\n",
       "      <td>t</td>\n",
       "      <td>Unknown</td>\n",
       "      <td>Valmadrera</td>\n",
       "      <td>Telecom Italia</td>\n",
       "      <td>IT</td>\n",
       "      <td>NaN</td>\n",
       "      <td>NaN</td>\n",
       "      <td>Residential</td>\n",
       "      <td>NaN</td>\n",
       "      <td>1/1/2008</td>\n",
       "      <td>...</td>\n",
       "      <td>Other</td>\n",
       "      <td>NaN</td>\n",
       "      <td>Unknown</td>\n",
       "      <td>Unknown</td>\n",
       "      <td>NaN</td>\n",
       "      <td>6/23/2016 5:00</td>\n",
       "      <td>NaN</td>\n",
       "      <td>NaN</td>\n",
       "      <td>PERSON</td>\n",
       "      <td>0</td>\n",
       "    </tr>\n",
       "    <tr>\n",
       "      <th>4</th>\n",
       "      <td>t</td>\n",
       "      <td>Unknown</td>\n",
       "      <td>Cardiff</td>\n",
       "      <td>NaN</td>\n",
       "      <td>GB</td>\n",
       "      <td>NaN</td>\n",
       "      <td>NaN</td>\n",
       "      <td>Residential</td>\n",
       "      <td>NaN</td>\n",
       "      <td>1/1/2008</td>\n",
       "      <td>...</td>\n",
       "      <td>Services</td>\n",
       "      <td>NaN</td>\n",
       "      <td>Unknown</td>\n",
       "      <td>Unknown</td>\n",
       "      <td>NaN</td>\n",
       "      <td>6/23/2016 5:00</td>\n",
       "      <td>NaN</td>\n",
       "      <td>NaN</td>\n",
       "      <td>PERSON</td>\n",
       "      <td>0</td>\n",
       "    </tr>\n",
       "  </tbody>\n",
       "</table>\n",
       "<p>5 rows × 100 columns</p>\n",
       "</div>"
      ],
      "text/plain": [
       "  flag db_industry       db_city                db_companyname db_country  \\\n",
       "0    t     Unknown    Stadthagen                    Unitymedia         DE   \n",
       "1    t     Unknown       Kimitsu              FreeBit Co.,Ltd.         JP   \n",
       "2    t     Unknown  Kuala Lumpur  Tmnet, Telekom Malaysia Bhd.         MY   \n",
       "3    t     Unknown    Valmadrera                Telecom Italia         IT   \n",
       "4    t     Unknown       Cardiff                           NaN         GB   \n",
       "\n",
       "  db_employeerange db_accountwatch  db_audience db_subindustry  \\\n",
       "0              NaN             NaN  Residential            NaN   \n",
       "1              NaN             NaN          SMB            NaN   \n",
       "2              NaN             NaN         SOHO            NaN   \n",
       "3              NaN             NaN  Residential            NaN   \n",
       "4              NaN             NaN  Residential            NaN   \n",
       "\n",
       "  prodA_launch_date  ... idc_verticals citdb_ent_it_emple citdb_ent_server  \\\n",
       "0          1/1/2008  ...       Unknown                NaN          Unknown   \n",
       "1          1/1/2008  ...       Unknown                NaN          Unknown   \n",
       "2          1/1/2008  ...       Unknown                NaN          Unknown   \n",
       "3          1/1/2008  ...         Other                NaN          Unknown   \n",
       "4          1/1/2008  ...      Services                NaN          Unknown   \n",
       "\n",
       "  citdb_ent_it_budget citdb_ent_hardware_budget  load_timestamp  \\\n",
       "0             Unknown                       NaN  6/23/2016 5:00   \n",
       "1             Unknown                       NaN  6/23/2016 5:00   \n",
       "2             Unknown                       NaN  6/23/2016 5:00   \n",
       "3             Unknown                       NaN  6/23/2016 5:00   \n",
       "4             Unknown                       NaN  6/23/2016 5:00   \n",
       "\n",
       "  hyperthreading_active_flag hv_replay_capable_flag record_type  \\\n",
       "0                          Y                      Y     Unknown   \n",
       "1                          Y                      Y     Unknown   \n",
       "2                          Y                      Y     Unknown   \n",
       "3                        NaN                    NaN      PERSON   \n",
       "4                        NaN                    NaN      PERSON   \n",
       "\n",
       "  prodV_booking_pct  \n",
       "0               0.5  \n",
       "1               0.5  \n",
       "2                 0  \n",
       "3                 0  \n",
       "4                 0  \n",
       "\n",
       "[5 rows x 100 columns]"
      ]
     },
     "execution_count": 6,
     "metadata": {},
     "output_type": "execute_result"
    }
   ],
   "source": [
    "# Display non-numerical features\n",
    "df_train.select_dtypes(exclude=\"number\").head()"
   ]
  },
  {
   "cell_type": "markdown",
   "id": "44106932",
   "metadata": {},
   "source": [
    "Using the `.describe()` function we can also investigate how many unique values each non-numerical feature has and with which frequency the most prominent value is present."
   ]
  },
  {
   "cell_type": "code",
   "execution_count": 7,
   "id": "5d5f4bda",
   "metadata": {},
   "outputs": [
    {
     "data": {
      "text/html": [
       "<div>\n",
       "<style scoped>\n",
       "    .dataframe tbody tr th:only-of-type {\n",
       "        vertical-align: middle;\n",
       "    }\n",
       "\n",
       "    .dataframe tbody tr th {\n",
       "        vertical-align: top;\n",
       "    }\n",
       "\n",
       "    .dataframe thead th {\n",
       "        text-align: right;\n",
       "    }\n",
       "</style>\n",
       "<table border=\"1\" class=\"dataframe\">\n",
       "  <thead>\n",
       "    <tr style=\"text-align: right;\">\n",
       "      <th></th>\n",
       "      <th>flag</th>\n",
       "      <th>db_industry</th>\n",
       "      <th>db_city</th>\n",
       "      <th>db_companyname</th>\n",
       "      <th>db_country</th>\n",
       "      <th>db_employeerange</th>\n",
       "      <th>db_accountwatch</th>\n",
       "      <th>db_audience</th>\n",
       "      <th>db_subindustry</th>\n",
       "      <th>prodA_launch_date</th>\n",
       "      <th>...</th>\n",
       "      <th>idc_verticals</th>\n",
       "      <th>citdb_ent_it_emple</th>\n",
       "      <th>citdb_ent_server</th>\n",
       "      <th>citdb_ent_it_budget</th>\n",
       "      <th>citdb_ent_hardware_budget</th>\n",
       "      <th>load_timestamp</th>\n",
       "      <th>hyperthreading_active_flag</th>\n",
       "      <th>hv_replay_capable_flag</th>\n",
       "      <th>record_type</th>\n",
       "      <th>prodV_booking_pct</th>\n",
       "    </tr>\n",
       "  </thead>\n",
       "  <tbody>\n",
       "    <tr>\n",
       "      <th>count</th>\n",
       "      <td>100000</td>\n",
       "      <td>100000</td>\n",
       "      <td>75493</td>\n",
       "      <td>59703</td>\n",
       "      <td>82224</td>\n",
       "      <td>21070</td>\n",
       "      <td>845</td>\n",
       "      <td>85948</td>\n",
       "      <td>23018</td>\n",
       "      <td>100000</td>\n",
       "      <td>...</td>\n",
       "      <td>100000</td>\n",
       "      <td>5606</td>\n",
       "      <td>100000</td>\n",
       "      <td>100000</td>\n",
       "      <td>5606</td>\n",
       "      <td>100000</td>\n",
       "      <td>61707</td>\n",
       "      <td>61707</td>\n",
       "      <td>100000</td>\n",
       "      <td>97421.0</td>\n",
       "    </tr>\n",
       "    <tr>\n",
       "      <th>unique</th>\n",
       "      <td>1</td>\n",
       "      <td>33</td>\n",
       "      <td>12143</td>\n",
       "      <td>18352</td>\n",
       "      <td>175</td>\n",
       "      <td>6</td>\n",
       "      <td>348</td>\n",
       "      <td>122</td>\n",
       "      <td>170</td>\n",
       "      <td>1</td>\n",
       "      <td>...</td>\n",
       "      <td>14</td>\n",
       "      <td>8</td>\n",
       "      <td>8</td>\n",
       "      <td>8</td>\n",
       "      <td>7</td>\n",
       "      <td>1</td>\n",
       "      <td>2</td>\n",
       "      <td>2</td>\n",
       "      <td>3</td>\n",
       "      <td>9315.0</td>\n",
       "    </tr>\n",
       "    <tr>\n",
       "      <th>top</th>\n",
       "      <td>t</td>\n",
       "      <td>Unknown</td>\n",
       "      <td>Tokyo</td>\n",
       "      <td>Comcast Cable</td>\n",
       "      <td>US</td>\n",
       "      <td>Very Small</td>\n",
       "      <td>null:null:null:null</td>\n",
       "      <td>Residential</td>\n",
       "      <td>Software Applications</td>\n",
       "      <td>1/1/2008</td>\n",
       "      <td>...</td>\n",
       "      <td>Unknown</td>\n",
       "      <td>&lt;250</td>\n",
       "      <td>Unknown</td>\n",
       "      <td>Unknown</td>\n",
       "      <td>&lt;$5 million</td>\n",
       "      <td>6/23/2016 5:00</td>\n",
       "      <td>Y</td>\n",
       "      <td>Y</td>\n",
       "      <td>Unknown</td>\n",
       "      <td>0.0</td>\n",
       "    </tr>\n",
       "    <tr>\n",
       "      <th>freq</th>\n",
       "      <td>100000</td>\n",
       "      <td>76982</td>\n",
       "      <td>2684</td>\n",
       "      <td>3000</td>\n",
       "      <td>39408</td>\n",
       "      <td>9397</td>\n",
       "      <td>295</td>\n",
       "      <td>42813</td>\n",
       "      <td>2359</td>\n",
       "      <td>100000</td>\n",
       "      <td>...</td>\n",
       "      <td>61883</td>\n",
       "      <td>3551</td>\n",
       "      <td>94398</td>\n",
       "      <td>94398</td>\n",
       "      <td>4270</td>\n",
       "      <td>100000</td>\n",
       "      <td>61484</td>\n",
       "      <td>61654</td>\n",
       "      <td>60802</td>\n",
       "      <td>68746.0</td>\n",
       "    </tr>\n",
       "  </tbody>\n",
       "</table>\n",
       "<p>4 rows × 100 columns</p>\n",
       "</div>"
      ],
      "text/plain": [
       "          flag db_industry db_city db_companyname db_country db_employeerange  \\\n",
       "count   100000      100000   75493          59703      82224            21070   \n",
       "unique       1          33   12143          18352        175                6   \n",
       "top          t     Unknown   Tokyo  Comcast Cable         US       Very Small   \n",
       "freq    100000       76982    2684           3000      39408             9397   \n",
       "\n",
       "            db_accountwatch  db_audience         db_subindustry  \\\n",
       "count                   845        85948                  23018   \n",
       "unique                  348          122                    170   \n",
       "top     null:null:null:null  Residential  Software Applications   \n",
       "freq                    295        42813                   2359   \n",
       "\n",
       "       prodA_launch_date  ... idc_verticals citdb_ent_it_emple  \\\n",
       "count             100000  ...        100000               5606   \n",
       "unique                 1  ...            14                  8   \n",
       "top             1/1/2008  ...       Unknown               <250   \n",
       "freq              100000  ...         61883               3551   \n",
       "\n",
       "       citdb_ent_server citdb_ent_it_budget citdb_ent_hardware_budget  \\\n",
       "count            100000              100000                      5606   \n",
       "unique                8                   8                         7   \n",
       "top             Unknown             Unknown               <$5 million   \n",
       "freq              94398               94398                      4270   \n",
       "\n",
       "        load_timestamp hyperthreading_active_flag hv_replay_capable_flag  \\\n",
       "count           100000                      61707                  61707   \n",
       "unique               1                          2                      2   \n",
       "top     6/23/2016 5:00                          Y                      Y   \n",
       "freq            100000                      61484                  61654   \n",
       "\n",
       "       record_type prodV_booking_pct  \n",
       "count       100000           97421.0  \n",
       "unique           3            9315.0  \n",
       "top        Unknown               0.0  \n",
       "freq         60802           68746.0  \n",
       "\n",
       "[4 rows x 100 columns]"
      ]
     },
     "execution_count": 7,
     "metadata": {},
     "output_type": "execute_result"
    }
   ],
   "source": [
    "df_train.describe(exclude=\"number\")"
   ]
  },
  {
   "cell_type": "code",
   "execution_count": 20,
   "id": "70b55683",
   "metadata": {},
   "outputs": [
    {
     "data": {
      "image/png": "[encoded data removed]",
      "text/plain": [
       "<Figure size 1080x288 with 1 Axes>"
      ]
     },
     "metadata": {
      "needs_background": "light"
     },
     "output_type": "display_data"
    }
   ],
   "source": [
    "# For each numerical feature compute number of unique entries\n",
    "unique_values = df_train.select_dtypes(\n",
    "  exclude=\"number\").nunique().sort_values()\n",
    "\n",
    "# Plot information with y-axis in log-scale\n",
    "unique_values.plot.bar(logy=True, figsize=(15, 4),\n",
    "                       title=\"Unique values per feature\");"
   ]
  },
  {
   "cell_type": "markdown",
   "id": "54195ab9",
   "metadata": {},
   "source": [
    "## 1.2. Structure of numerical features\n",
    "\n",
    "Next, let's take a closer look at the numerical features. More precisely, let's investigate how many unique values each of these feature has. This process will give us some insights about the number of **binary** (2 unique values), **ordinal** (3 to ~10 unique values) and **continuous** (more than 10 unique values) features in the dataset."
   ]
  },
  {
   "cell_type": "code",
   "execution_count": 22,
   "id": "1e88c984",
   "metadata": {},
   "outputs": [
    {
     "data": {
      "image/png": "[encoded data removed]",
      "text/plain": [
       "<Figure size 1080x288 with 1 Axes>"
      ]
     },
     "metadata": {
      "needs_background": "light"
     },
     "output_type": "display_data"
    }
   ],
   "source": [
    "# For each numerical feature compute number of unique entries\n",
    "unique_values = df_train.select_dtypes(\n",
    "  include=\"number\").nunique().sort_values()\n",
    "\n",
    "# Plot information with y-axis in log-scale\n",
    "unique_values.plot.bar(logy=True, figsize=(15, 4),\n",
    "                       title=\"Unique values per feature\");"
   ]
  },
  {
   "cell_type": "markdown",
   "id": "0a126a47",
   "metadata": {},
   "source": [
    "## 1.3. Conclusion of structure investigation\n",
    "\n",
    "At the end of this first investigation, we have a better understanding of the general structure of our dataset. Number of samples and features, what kind of data type each feature has, and how many of them are binary, ordinal, categorical or continuous. "
   ]
  },
  {
   "cell_type": "markdown",
   "id": "e557fe4d",
   "metadata": {},
   "source": [
    "# 2. Quality Investigation\n",
    "\n",
    "Before focusing on the actual content stored in these features, let's first take a look at the general quality of the dataset. The goal is to have a global view on the dataset with regards to things like duplicates, missing values and unwanted entries or recording errors."
   ]
  },
  {
   "cell_type": "markdown",
   "id": "a2dc2266",
   "metadata": {},
   "source": [
    "But first let us find our Y (Response variable) "
   ]
  },
  {
   "cell_type": "code",
   "execution_count": 8,
   "id": "2ffb684f",
   "metadata": {},
   "outputs": [
    {
     "data": {
      "text/plain": [
       "Index(['tot_store_workstation_pro_product_page_views',\n",
       "       'tot_store_workstation_player_product_page_views',\n",
       "       'tot_store_upgrade_to_workstation_pro_page_views',\n",
       "       'tot_store_upgrade_to_workstation_player_page_views',\n",
       "       'tot_store_support_pis_workstation_pro_page_views',\n",
       "       'tot_store_support_pis_workstation_player_page_views',\n",
       "       'num_workstation_campaign_responses',\n",
       "       'digital_num_workstation_webcast_responses',\n",
       "       'num_workstation_seminar_responses',\n",
       "       'digital_workstation_paid_search_responses',\n",
       "       'digital_workstation_online_responses',\n",
       "       'digital_workstation_eval_responses', 'num_workstation_responses',\n",
       "       'num_workstation_campaign_network_role_responses',\n",
       "       'trainy_period_workstation_purchase_flag'],\n",
       "      dtype='object')"
      ]
     },
     "execution_count": 8,
     "metadata": {},
     "output_type": "execute_result"
    }
   ],
   "source": [
    "df_train.filter(regex='workstation|Workstation').columns"
   ]
  },
  {
   "cell_type": "code",
   "execution_count": 9,
   "id": "1b9d5d5e",
   "metadata": {},
   "outputs": [
    {
     "data": {
      "text/plain": [
       "Index(['purchase_events', 'first_prodA_purchase_date',\n",
       "       'first_prodA_5_x_purchase_date', 'first_prodB_purchase_date',\n",
       "       'first_prodC_purchase_date', 'first_prodD_purchase_date',\n",
       "       'first_prodE_purchase_date', 'first_prodF_purchase_date',\n",
       "       'first_prodG_purchase_date', 'first_prodH_purchase_date',\n",
       "       ...\n",
       "       'days_since_first_prodA_ent_plus_purchase_date',\n",
       "       'days_since_first_prodU_purchase_date',\n",
       "       'days_since_last_prodT_purchase_date',\n",
       "       'days_since_last_prodT_license_purchase_date',\n",
       "       'days_since_last_prodN_license_purchase_date',\n",
       "       'days_since_last_prodA_std_purchase_date',\n",
       "       'days_since_last_prodA_ent_purchase_date',\n",
       "       'days_since_last_prodA_ent_plus_purchase_date',\n",
       "       'days_since_last_prodU_purchase_date',\n",
       "       'trainy_period_workstation_purchase_flag'],\n",
       "      dtype='object', length=121)"
      ]
     },
     "execution_count": 9,
     "metadata": {},
     "output_type": "execute_result"
    }
   ],
   "source": [
    "df_train.filter(regex='Purchase|purchase').columns"
   ]
  },
  {
   "cell_type": "markdown",
   "id": "17b8480d",
   "metadata": {},
   "source": [
    "We have trainy_period_workstation_purchase_flag which sounds like the variable that is encoded with {1,0}, with 0 as not_purchased during the period and 1 as purchased workstation during the period"
   ]
  },
  {
   "cell_type": "code",
   "execution_count": 11,
   "id": "27d8c105",
   "metadata": {},
   "outputs": [
    {
     "data": {
      "text/plain": [
       "0    96.5\n",
       "1     3.5\n",
       "Name: trainy_period_workstation_purchase_flag, dtype: float64"
      ]
     },
     "execution_count": 11,
     "metadata": {},
     "output_type": "execute_result"
    }
   ],
   "source": [
    "df_train.trainy_period_workstation_purchase_flag.value_counts(normalize=True)*100"
   ]
  },
  {
   "cell_type": "markdown",
   "id": "3b736926",
   "metadata": {},
   "source": [
    "only 3.5% of purchases of workstation in the data"
   ]
  },
  {
   "cell_type": "markdown",
   "id": "84ede595",
   "metadata": {},
   "source": [
    "**The Dependant variable for our prediction will be**"
   ]
  },
  {
   "cell_type": "code",
   "execution_count": 5,
   "id": "7e87bd3b",
   "metadata": {},
   "outputs": [],
   "source": [
    "response_variable ='trainy_period_workstation_purchase_flag'"
   ]
  },
  {
   "cell_type": "markdown",
   "id": "b33af1a0",
   "metadata": {},
   "source": [
    "From the above query we can observe no missing records in the response variable "
   ]
  },
  {
   "cell_type": "code",
   "execution_count": 13,
   "id": "5588dd19",
   "metadata": {},
   "outputs": [
    {
     "name": "stdout",
     "output_type": "stream",
     "text": [
      "The Class imbalance ratio is : 27.571428571428573\n"
     ]
    }
   ],
   "source": [
    "print(f'The Class imbalance ratio is : {df_train.trainy_period_workstation_purchase_flag.value_counts().max()/df_train.trainy_period_workstation_purchase_flag.value_counts().min()}')"
   ]
  },
  {
   "cell_type": "markdown",
   "id": "90375d17",
   "metadata": {},
   "source": [
    "<div class=\"alert alert-block alert-danger\" >\n",
    "The **High-Imbalance ratio** which is way greater than 4 is a clear indicator of applying imbalance remedy to build correct model. "
   ]
  },
  {
   "cell_type": "markdown",
   "id": "c8e60542",
   "metadata": {},
   "source": [
    "## 2.1. Duplicates\n",
    "\n",
    "Duplicates are entries that represent the same sample point multiple times. For example, if a measurement was registered twice by two different people. Detecting such duplicates is not always easy, as each dataset might have a unique identifier (e.g. an index number or recording time that is unique to each new sample) which you might want to ignore first."
   ]
  },
  {
   "cell_type": "code",
   "execution_count": 5,
   "id": "a2df78ad",
   "metadata": {},
   "outputs": [
    {
     "name": "stdout",
     "output_type": "stream",
     "text": [
      "We have 0 duplicates in the database.\n"
     ]
    },
    {
     "data": {
      "text/plain": [
       "(100000, 958)"
      ]
     },
     "execution_count": 5,
     "metadata": {},
     "output_type": "execute_result"
    }
   ],
   "source": [
    "# Check number of duplicates while ignoring the dependant feature\n",
    "n_duplicates = df_train.drop(labels=[response_variable], axis=1).duplicated().sum()\n",
    "print(f\"We have {n_duplicates} duplicates in the database.\")\n",
    "\n",
    "#  Extract column names of all features, except 'Placement_B'\n",
    "columns_to_consider = df_train.drop(labels=[response_variable], axis=1).columns\n",
    "\n",
    "# Drop duplicates based on 'columns_to_consider'\n",
    "df_X = df_train.drop_duplicates(subset=columns_to_consider)\n",
    "df_X.shape\n",
    "\n"
   ]
  },
  {
   "cell_type": "markdown",
   "id": "c349a58e",
   "metadata": {},
   "source": [
    "## 2.2. Missing values\n",
    "\n",
    "Another quality issue worth to investigate are missing values. Having some missing values is normal. What we want to identify at this stage are big holes in the dataset, i.e. samples or features with a lot of missing values."
   ]
  },
  {
   "cell_type": "markdown",
   "id": "965412f8",
   "metadata": {},
   "source": [
    "### 2.2.1. Dropping colums which doesnt have 80% of the records\n",
    "\n",
    "To look at number of missing values per sample we have multiple options. The most straight forward one is to simply visualize the output of `df_X.isna()`, with something like this:"
   ]
  },
  {
   "cell_type": "code",
   "execution_count": 6,
   "id": "4895f383",
   "metadata": {},
   "outputs": [],
   "source": [
    "# Atleast 80% rows per features\n",
    "row_threshold = 0.8\n",
    "num_rows = np.ceil(df_train.shape[0]*row_threshold)\n",
    "num_rows\n",
    "df_train.dropna(thresh=num_rows, axis=1,inplace=True)"
   ]
  },
  {
   "cell_type": "code",
   "execution_count": 7,
   "id": "fe37cd6f",
   "metadata": {},
   "outputs": [
    {
     "data": {
      "text/plain": [
       "(100000, 476)"
      ]
     },
     "execution_count": 7,
     "metadata": {},
     "output_type": "execute_result"
    }
   ],
   "source": [
    "df_train.shape"
   ]
  },
  {
   "cell_type": "markdown",
   "id": "545acf8e",
   "metadata": {},
   "source": [
    "after dropping columns with a threshold of 75% of rows to be filled in the feature, now we have 476 features we can analyse on."
   ]
  },
  {
   "cell_type": "code",
   "execution_count": 8,
   "id": "1e90c80d",
   "metadata": {},
   "outputs": [],
   "source": [
    "'''\n",
    "Applying Threshold -- Need to have atleast this number \n",
    "thresh --> Require that many non-NA values.\n",
    "'''\n",
    "# Atleast 75% features per row\n",
    "col_threshold = 1\n",
    "num_cols = np.ceil(df_train.shape[1]*col_threshold)\n",
    "num_cols\n",
    "df_train.dropna(thresh=num_cols,inplace=True)"
   ]
  },
  {
   "cell_type": "code",
   "execution_count": 9,
   "id": "86895a33",
   "metadata": {},
   "outputs": [
    {
     "data": {
      "text/plain": [
       "(77493, 476)"
      ]
     },
     "execution_count": 9,
     "metadata": {},
     "output_type": "execute_result"
    }
   ],
   "source": [
    "df_train.shape"
   ]
  },
  {
   "cell_type": "code",
   "execution_count": 10,
   "id": "73218e6d",
   "metadata": {},
   "outputs": [],
   "source": [
    "final_features = df_train.columns.to_list()"
   ]
  },
  {
   "cell_type": "code",
   "execution_count": 11,
   "id": "5998bb64",
   "metadata": {},
   "outputs": [],
   "source": [
    "df_val=df_val[final_features]"
   ]
  },
  {
   "cell_type": "code",
   "execution_count": 12,
   "id": "e4f837e8",
   "metadata": {},
   "outputs": [
    {
     "data": {
      "text/plain": [
       "(49999, 476)"
      ]
     },
     "execution_count": 12,
     "metadata": {},
     "output_type": "execute_result"
    }
   ],
   "source": [
    "df_val.shape"
   ]
  },
  {
   "cell_type": "code",
   "execution_count": 13,
   "id": "7abc3482",
   "metadata": {},
   "outputs": [],
   "source": [
    "'''\n",
    "Applying Threshold -- Need to have atleast this number \n",
    "thresh --> Require that many non-NA values.\n",
    "'''\n",
    "\n",
    "# Atleast 75% features per row\n",
    "col_threshold = 1\n",
    "num_cols = np.ceil(df_val.shape[1]*col_threshold)\n",
    "num_cols\n",
    "df_val.dropna(thresh=num_cols,inplace=True)"
   ]
  },
  {
   "cell_type": "code",
   "execution_count": 14,
   "id": "e77f48cc",
   "metadata": {},
   "outputs": [
    {
     "data": {
      "text/plain": [
       "(37850, 476)"
      ]
     },
     "execution_count": 14,
     "metadata": {},
     "output_type": "execute_result"
    }
   ],
   "source": [
    "df_val.shape"
   ]
  },
  {
   "cell_type": "markdown",
   "id": "a01ddea3",
   "metadata": {},
   "source": [
    "we choose to drop any row with missing value and finally we have 77493 records with 476 features"
   ]
  },
  {
   "cell_type": "code",
   "execution_count": 3,
   "id": "afb3dbdd",
   "metadata": {},
   "outputs": [
    {
     "data": {
      "text/html": [
       "\n",
       "<form action=\"javascript:code_toggle()\"><input type=\"submit\" id=\"toggleButton\" value=\"Show Sloution\"></form>\n"
      ],
      "text/plain": [
       "<IPython.core.display.HTML object>"
      ]
     },
     "metadata": {},
     "output_type": "display_data"
    }
   ],
   "source": [
    "# Function to calculate missing values by column\n",
    "def missing_values_table(df):\n",
    "        # Total missing values\n",
    "        mis_val = df.isnull().sum()\n",
    "        \n",
    "        # Percentage of missing values\n",
    "        mis_val_percent = 100 * df.isnull().sum() / len(df)\n",
    "        \n",
    "        # Make a table with the results\n",
    "        mis_val_table = pd.concat([mis_val, mis_val_percent], axis=1)\n",
    "        \n",
    "        # Rename the columns\n",
    "        mis_val_table_ren_columns = mis_val_table.rename(\n",
    "        columns = {0 : 'Missing Values', 1 : '% of Total Values'})\n",
    "        \n",
    "        # Sort the table by percentage of missing descending\n",
    "        mis_val_table_ren_columns = mis_val_table_ren_columns[\n",
    "            mis_val_table_ren_columns.iloc[:,1] != 0].sort_values(\n",
    "        '% of Total Values', ascending=False).round(1)\n",
    "        \n",
    "        # Print some summary information\n",
    "        print (\"Your selected dataframe has \" + str(df.shape[1]) + \" columns.\\n\"      \n",
    "            \"There are \" + str(mis_val_table_ren_columns.shape[0]) +\n",
    "              \" columns that have missing values.\")\n",
    "        \n",
    "        # Return the dataframe with missing information\n",
    "        return mis_val_table_ren_columns\n",
    "hide_sloution()"
   ]
  },
  {
   "cell_type": "code",
   "execution_count": 17,
   "id": "d27e2cf5",
   "metadata": {},
   "outputs": [
    {
     "name": "stdout",
     "output_type": "stream",
     "text": [
      "Your selected dataframe has 476 columns.\n",
      "There are 0 columns that have missing values.\n"
     ]
    },
    {
     "data": {
      "text/html": [
       "<div>\n",
       "<style scoped>\n",
       "    .dataframe tbody tr th:only-of-type {\n",
       "        vertical-align: middle;\n",
       "    }\n",
       "\n",
       "    .dataframe tbody tr th {\n",
       "        vertical-align: top;\n",
       "    }\n",
       "\n",
       "    .dataframe thead th {\n",
       "        text-align: right;\n",
       "    }\n",
       "</style>\n",
       "<table border=\"1\" class=\"dataframe\">\n",
       "  <thead>\n",
       "    <tr style=\"text-align: right;\">\n",
       "      <th></th>\n",
       "      <th>Missing Values</th>\n",
       "      <th>% of Total Values</th>\n",
       "    </tr>\n",
       "  </thead>\n",
       "  <tbody>\n",
       "  </tbody>\n",
       "</table>\n",
       "</div>"
      ],
      "text/plain": [
       "Empty DataFrame\n",
       "Columns: [Missing Values, % of Total Values]\n",
       "Index: []"
      ]
     },
     "execution_count": 17,
     "metadata": {},
     "output_type": "execute_result"
    }
   ],
   "source": [
    "# Missing values statistics\n",
    "missing_values = missing_values_table(df_train)\n",
    "missing_values"
   ]
  },
  {
   "cell_type": "code",
   "execution_count": 18,
   "id": "1bd69140",
   "metadata": {},
   "outputs": [],
   "source": [
    "### run from this after dropping missing value columns"
   ]
  },
  {
   "cell_type": "code",
   "execution_count": 16,
   "id": "e4013a2f",
   "metadata": {},
   "outputs": [],
   "source": [
    "#df_train['prodV_booking_pct']=df_train['prodV_booking_pct'].fillna(-1) \n",
    "df_train['prodV_booking_pct']=df_train['prodV_booking_pct'].replace('#NAME?',np.nan)\n",
    "df_train['prodV_booking_pct']=df_train['prodV_booking_pct'].apply(lambda x: x.astype(float) if x==str else x)\n",
    "df_train['prodV_booking_pct']=df_train[['prodV_booking_pct']].astype(float)"
   ]
  },
  {
   "cell_type": "code",
   "execution_count": 17,
   "id": "54464fc9",
   "metadata": {},
   "outputs": [],
   "source": [
    "#df_val['prodV_booking_pct']=df_val['prodV_booking_pct'].fillna(-1) \n",
    "df_val.loc[:,'prodV_booking_pct']=df_val.loc[:,'prodV_booking_pct'].replace('#NAME?',np.nan)\n",
    "df_val.loc[:,'prodV_booking_pct']=df_val.loc[:,'prodV_booking_pct'].apply(lambda x: x.astype(float) if x==str else x)\n",
    "df_val.loc[:,'prodV_booking_pct']=df_val.loc[:,['prodV_booking_pct']].astype(float)"
   ]
  },
  {
   "cell_type": "markdown",
   "id": "0e51c9f0",
   "metadata": {},
   "source": [
    "cleaning up errors such as '#Name?' "
   ]
  },
  {
   "cell_type": "code",
   "execution_count": 18,
   "id": "598be956",
   "metadata": {
    "scrolled": true
   },
   "outputs": [
    {
     "name": "stdout",
     "output_type": "stream",
     "text": [
      "<class 'pandas.core.frame.DataFrame'>\n",
      "Int64Index: 37850 entries, 0 to 49998\n",
      "Data columns (total 1 columns):\n",
      " #   Column             Non-Null Count  Dtype  \n",
      "---  ------             --------------  -----  \n",
      " 0   prodV_booking_pct  37850 non-null  float64\n",
      "dtypes: float64(1)\n",
      "memory usage: 591.4 KB\n"
     ]
    }
   ],
   "source": [
    "df_val[['prodV_booking_pct']].info()"
   ]
  },
  {
   "cell_type": "code",
   "execution_count": 19,
   "id": "cf3336e6",
   "metadata": {
    "scrolled": true
   },
   "outputs": [
    {
     "data": {
      "text/plain": [
       "['flag',\n",
       " 'db_industry',\n",
       " 'db_country',\n",
       " 'db_audience',\n",
       " 'prodA_launch_date',\n",
       " 'prodA_5_x_launch_date',\n",
       " 'prodB_launch_date',\n",
       " 'vsa_launch_date',\n",
       " 'prodD_launch_date',\n",
       " 'prodE_launch_date',\n",
       " 'prodF_launch_date',\n",
       " 'prodG_launch_date',\n",
       " 'prodH_launch_date',\n",
       " 'prodJ_launch_date',\n",
       " 'prodI_launch_date',\n",
       " 'prodK_launch_date',\n",
       " 'draas_launch_date',\n",
       " 'prodL_launch_date',\n",
       " 'prodM_launch_date',\n",
       " 'first_any_product_purch_date',\n",
       " 'first_prodG_purchase_date',\n",
       " 'last_any_product_purchase_date',\n",
       " 'last_prodG_purchase_date',\n",
       " 'geo_dunssite',\n",
       " 'gu_emp_segment_desc',\n",
       " 'idc_verticals',\n",
       " 'citdb_ent_server',\n",
       " 'citdb_ent_it_budget',\n",
       " 'load_timestamp',\n",
       " 'record_type']"
      ]
     },
     "execution_count": 19,
     "metadata": {},
     "output_type": "execute_result"
    }
   ],
   "source": [
    "category_list = list(df_train.select_dtypes(include='object'))\n",
    "\n",
    "#category_list.pop(category_list.index('db_country'))\n",
    "category_list"
   ]
  },
  {
   "cell_type": "markdown",
   "id": "d81146ab",
   "metadata": {},
   "source": [
    "here we can observe datetime colums as object type, conveting them back to datetime objects so we can have time based sampling, according to strategy."
   ]
  },
  {
   "cell_type": "code",
   "execution_count": 20,
   "id": "02c8178d",
   "metadata": {},
   "outputs": [],
   "source": [
    "find_date_ls =['first_any_product_purch_date',\n",
    " 'first_prodG_purchase_date',\n",
    " 'last_any_product_purchase_date',\n",
    " 'last_prodG_purchase_date',]"
   ]
  },
  {
   "cell_type": "code",
   "execution_count": 27,
   "id": "5099ee79",
   "metadata": {},
   "outputs": [
    {
     "data": {
      "text/plain": [
       "(77493, 476)"
      ]
     },
     "execution_count": 27,
     "metadata": {},
     "output_type": "execute_result"
    }
   ],
   "source": [
    "df_train.shape"
   ]
  },
  {
   "cell_type": "code",
   "execution_count": 21,
   "id": "a0d0087d",
   "metadata": {},
   "outputs": [
    {
     "data": {
      "text/plain": [
       "Index(['prodA_launch_date', 'prodA_5_x_launch_date', 'prodB_launch_date',\n",
       "       'vsa_launch_date', 'prodD_launch_date', 'prodE_launch_date',\n",
       "       'prodF_launch_date', 'prodG_launch_date', 'prodH_launch_date',\n",
       "       'prodJ_launch_date', 'prodI_launch_date', 'prodK_launch_date',\n",
       "       'draas_launch_date', 'prodL_launch_date', 'prodM_launch_date',\n",
       "       'first_any_product_purch_date', 'first_prodG_purchase_date',\n",
       "       'last_any_product_purchase_date', 'last_prodG_purchase_date',\n",
       "       'days_since_first_prodG_purchase_date',\n",
       "       'days_since_last_prodG_purchase_date'],\n",
       "      dtype='object')"
      ]
     },
     "execution_count": 21,
     "metadata": {},
     "output_type": "execute_result"
    }
   ],
   "source": [
    "df_train.filter(regex='date|Date').columns"
   ]
  },
  {
   "cell_type": "code",
   "execution_count": 22,
   "id": "46b18565",
   "metadata": {},
   "outputs": [],
   "source": [
    "df_train[find_date_ls]=df_train[find_date_ls].apply(pd.to_datetime)\n",
    "df_val[find_date_ls]=df_val[find_date_ls].apply(pd.to_datetime)"
   ]
  },
  {
   "cell_type": "code",
   "execution_count": 23,
   "id": "d6f38a6c",
   "metadata": {},
   "outputs": [],
   "source": [
    "_={}\n",
    "for col in find_date_ls:\n",
    "    _[col]=(min(df_train[col]),max(df_train[col])) "
   ]
  },
  {
   "cell_type": "code",
   "execution_count": 24,
   "id": "c46b066d",
   "metadata": {},
   "outputs": [
    {
     "data": {
      "text/plain": [
       "{'first_any_product_purch_date': (Timestamp('2008-01-01 00:00:00'),\n",
       "  Timestamp('2015-12-01 00:00:00')),\n",
       " 'first_prodG_purchase_date': (Timestamp('2008-01-01 00:00:00'),\n",
       "  Timestamp('2015-12-01 00:00:00')),\n",
       " 'last_any_product_purchase_date': (Timestamp('2008-01-01 00:00:00'),\n",
       "  Timestamp('2015-12-01 00:00:00')),\n",
       " 'last_prodG_purchase_date': (Timestamp('2008-01-01 00:00:00'),\n",
       "  Timestamp('2015-12-01 00:00:00'))}"
      ]
     },
     "execution_count": 24,
     "metadata": {},
     "output_type": "execute_result"
    }
   ],
   "source": [
    "_"
   ]
  },
  {
   "cell_type": "markdown",
   "id": "3d01cf83",
   "metadata": {},
   "source": [
    "`The dates from training data ranges from 2008-01-01 to 2015-12-01`"
   ]
  },
  {
   "cell_type": "markdown",
   "id": "fa7d881d",
   "metadata": {},
   "source": [
    "`the dates at validation date is ranging from 2008-01-01 toi 2016-03-01`"
   ]
  },
  {
   "cell_type": "markdown",
   "id": "198209a5",
   "metadata": {},
   "source": [
    "<div class=\"alert alert-block alert-danger\" >\n",
    "For training, we will use aggregate data up to September 2015 and predict the Workstation buyers durg October–December 2015."
   ]
  },
  {
   "cell_type": "code",
   "execution_count": 25,
   "id": "e727ae12",
   "metadata": {},
   "outputs": [],
   "source": [
    "X_train=df_train[df_train['last_any_product_purchase_date']<='2015-09-01'].loc[:,df_train.columns!=response_variable]\n",
    "y_train = df_train[df_train['last_any_product_purchase_date']<='2015-09-01'].loc[:,response_variable]\n",
    "X_test=df_train[df_train['last_any_product_purchase_date']>'2015-09-01'].loc[:,df_train.columns!=response_variable]\n",
    "y_test = df_train[df_train['last_any_product_purchase_date']>'2015-09-01'].loc[:,response_variable]"
   ]
  },
  {
   "cell_type": "markdown",
   "id": "5ce0dca5",
   "metadata": {},
   "source": [
    "<div class=\"alert alert-block alert-danger\" >\n",
    "For vlidation use aggregate data till 2015 december and predict on purchases during Jan 2016 to march 2016"
   ]
  },
  {
   "cell_type": "code",
   "execution_count": 26,
   "id": "f384c3f2",
   "metadata": {},
   "outputs": [],
   "source": [
    "X_val=df_train.drop(response_variable,axis=1)\n",
    "y_val=df_train[response_variable]\n",
    "X_val_test= df_val[df_val['last_any_product_purchase_date']>'2015-12-01'].loc[:,df_val.columns!=response_variable]\n",
    "y_val_test= df_val[df_val['last_any_product_purchase_date']>'2015-12-01'].loc[:,response_variable]\n"
   ]
  },
  {
   "cell_type": "markdown",
   "id": "e64a2c81",
   "metadata": {},
   "source": [
    "<div class=\"alert alert-block alert-danger\" >\n",
    "for scoring we will be using aggregated data till March 2016"
   ]
  },
  {
   "cell_type": "code",
   "execution_count": 27,
   "id": "2d86bcf8",
   "metadata": {},
   "outputs": [],
   "source": [
    "X_score=df_val.drop(response_variable,axis=1)\n",
    "y_score=df_val[response_variable]"
   ]
  },
  {
   "cell_type": "markdown",
   "id": "d93c4ff9",
   "metadata": {},
   "source": [
    "shapes"
   ]
  },
  {
   "cell_type": "code",
   "execution_count": 55,
   "id": "cd40884d",
   "metadata": {
    "scrolled": true
   },
   "outputs": [
    {
     "data": {
      "text/plain": [
       "((65652, 475), (11841, 475), (77493, 475), (2589, 475), (37850, 475))"
      ]
     },
     "execution_count": 55,
     "metadata": {},
     "output_type": "execute_result"
    }
   ],
   "source": [
    "X_train.shape,X_test.shape,X_val.shape,X_val_test.shape,X_score.shape"
   ]
  },
  {
   "cell_type": "code",
   "execution_count": 56,
   "id": "c3f4619e",
   "metadata": {
    "scrolled": true
   },
   "outputs": [
    {
     "data": {
      "text/plain": [
       "((65652,), (11841,), (77493,), (2589,), (37850,))"
      ]
     },
     "execution_count": 56,
     "metadata": {},
     "output_type": "execute_result"
    }
   ],
   "source": [
    "y_train.shape,y_test.shape,y_val.shape,y_val_test.shape,y_score.shape"
   ]
  },
  {
   "cell_type": "markdown",
   "id": "85446109",
   "metadata": {},
   "source": [
    "### Encoding the date columns"
   ]
  },
  {
   "cell_type": "code",
   "execution_count": 29,
   "id": "06d3a451",
   "metadata": {},
   "outputs": [],
   "source": [
    "X_train.drop(find_date_ls,axis=1,inplace=True)\n",
    "X_test.drop(find_date_ls,axis=1,inplace=True)\n",
    "X_val.drop(find_date_ls,axis=1,inplace=True)\n",
    "X_val_test.drop(find_date_ls,axis=1,inplace=True)\n",
    "X_score.drop(find_date_ls,axis=1,inplace=True)"
   ]
  },
  {
   "cell_type": "code",
   "execution_count": 30,
   "id": "2979f098",
   "metadata": {},
   "outputs": [
    {
     "data": {
      "text/plain": [
       "((65652, 491), (11841, 491), (77493, 491), (2589, 491), (37850, 491))"
      ]
     },
     "execution_count": 30,
     "metadata": {},
     "output_type": "execute_result"
    }
   ],
   "source": [
    "X_train.shape,X_test.shape,X_val.shape,X_val_test.shape,X_score.shape"
   ]
  },
  {
   "cell_type": "code",
   "execution_count": 31,
   "id": "76e55012",
   "metadata": {},
   "outputs": [],
   "source": [
    "X_val.loc[:,'channel_direct_total_pct']=X_val.loc[:,'channel_direct_total_pct'].replace('#NAME?',np.nan)\n",
    "X_val['channel_direct_total_pct']=X_val['channel_direct_total_pct'].astype(float)\n",
    "X_val_test.loc[:,'channel_direct_total_pct']=X_val_test.loc[:,'channel_direct_total_pct'].replace('#NAME?',np.nan)\n",
    "X_val_test['channel_direct_total_pct']=X_val_test['channel_direct_total_pct'].astype(float)\n",
    "X_score.loc[:,'channel_direct_total_pct']=X_score.loc[:,'channel_direct_total_pct'].replace('#NAME?',np.nan)\n",
    "X_score['channel_direct_total_pct']=X_score['channel_direct_total_pct'].astype(float)"
   ]
  },
  {
   "cell_type": "code",
   "execution_count": 32,
   "id": "8d066bc0",
   "metadata": {},
   "outputs": [
    {
     "data": {
      "text/plain": [
       "((65652, 491), (11841, 491), (77493, 491), (2589, 491), (37850, 491))"
      ]
     },
     "execution_count": 32,
     "metadata": {},
     "output_type": "execute_result"
    }
   ],
   "source": [
    "X_train.shape,X_test.shape,X_val.shape,X_val_test.shape,X_score.shape"
   ]
  },
  {
   "cell_type": "code",
   "execution_count": 33,
   "id": "983fe793",
   "metadata": {},
   "outputs": [
    {
     "data": {
      "text/plain": [
       "True"
      ]
     },
     "execution_count": 33,
     "metadata": {},
     "output_type": "execute_result"
    }
   ],
   "source": [
    "category_list_train = list(X_train.select_dtypes(include='object'))\n",
    "category_list_val = list(X_val.select_dtypes(include='object'))\n",
    "#category_list.pop(category_list.index('db_country'))\n",
    "set(category_list_val)-set(category_list_train)\n",
    "category_list_train==category_list_val"
   ]
  },
  {
   "cell_type": "code",
   "execution_count": 34,
   "id": "65823475",
   "metadata": {},
   "outputs": [
    {
     "data": {
      "text/plain": [
       "((65652, 491), (11841, 491), (77493, 491), (2589, 491), (37850, 491))"
      ]
     },
     "execution_count": 34,
     "metadata": {},
     "output_type": "execute_result"
    }
   ],
   "source": [
    "X_train.shape,X_test.shape,X_val.shape,X_val_test.shape,X_score.shape"
   ]
  },
  {
   "cell_type": "markdown",
   "id": "ac629372",
   "metadata": {},
   "source": [
    "**Encoding**"
   ]
  },
  {
   "cell_type": "code",
   "execution_count": 35,
   "id": "8fbbf6e1",
   "metadata": {},
   "outputs": [],
   "source": [
    "from sklearn.preprocessing import OrdinalEncoder"
   ]
  },
  {
   "cell_type": "code",
   "execution_count": 36,
   "id": "eb631156",
   "metadata": {},
   "outputs": [],
   "source": [
    "enc = OrdinalEncoder()\n",
    "X_train[category_list_train] = enc.fit_transform(X_train[category_list_train])\n",
    "X_test[category_list_train] = enc.fit_transform(X_test[category_list_train])\n",
    "X_val[category_list_val] = enc.fit_transform(X_val[category_list_val])\n",
    "X_val_test[category_list_val] = enc.fit_transform(X_val_test[category_list_val])\n",
    "X_score[category_list_val] = enc.fit_transform(X_score[category_list_val])"
   ]
  },
  {
   "cell_type": "code",
   "execution_count": 37,
   "id": "c4e0972d",
   "metadata": {},
   "outputs": [
    {
     "data": {
      "text/plain": [
       "((65652, 491), (11841, 491), (77493, 491), (2589, 491), (37850, 491))"
      ]
     },
     "execution_count": 37,
     "metadata": {},
     "output_type": "execute_result"
    }
   ],
   "source": [
    "X_train.shape,X_test.shape,X_val.shape,X_val_test.shape,X_score.shape"
   ]
  },
  {
   "cell_type": "code",
   "execution_count": 38,
   "id": "57a0ee57",
   "metadata": {},
   "outputs": [
    {
     "data": {
      "text/plain": [
       "((65652,), (11841,), (77493,), (2589,), (37850,))"
      ]
     },
     "execution_count": 38,
     "metadata": {},
     "output_type": "execute_result"
    }
   ],
   "source": [
    "y_train.shape,y_test.shape,y_val.shape,y_val_test.shape,y_score.shape"
   ]
  },
  {
   "cell_type": "markdown",
   "id": "d7f3c182",
   "metadata": {},
   "source": [
    "<div class=\"alert alert-block alert-danger\" >\n",
    "Since we dont want to be exploding the data set with more features we are using ordinal encoding  `after encoding we have 61667 records with 491  encoded features on the X train data ` after dropping the missing rows in the validatation data and encoding them we have `37850 records and 491 features with the X_val validation data`"
   ]
  },
  {
   "cell_type": "markdown",
   "id": "ab9e9544",
   "metadata": {},
   "source": [
    "### Problem Statement"
   ]
  },
  {
   "cell_type": "markdown",
   "id": "b6da0052",
   "metadata": {},
   "source": [
    "### Outline the business problem and how it can be converted to an analytics problem."
   ]
  },
  {
   "cell_type": "markdown",
   "id": "cffa6fdd",
   "metadata": {},
   "source": [
    "Since there were no version upgrades in the planning for the current year, 'VMVare' is looking if they could target **New Workstation customers** , find opportunity to **up-sell** or **cross-sell** to those who were not operating on the Workstation yet. They would want to give the coupons only to those customers that are most likely to buy and not indiscriminately to all. <BR>\n",
    "> Outlining the Business Problem: VMVare would like to improve the recommendations to users that align with their interest and push them to place an order.They  would like a list of the email ids most likely to purchase latest products Workstation 12 or Workstation 12 Player in the next 3 months so that Customer Realtionship Management team can target these email ids. \n",
    "    \n",
    "**For Translating the business problem to analytics problem** \n",
    "we can consider breaking up into two steps \n",
    "*   - Set analytic goals and scope of solution\n",
    "    - Plan the analysis\n",
    "    \n",
    "> **Set analytic goals and scope of solution**<BR>\n",
    "    The final objective is to leverage data sciences and analytics for targeting, up-sell and cross-sell to customers in the online store, thereby increasing customer value. The immediate need was a propensity to buy a model that could result in the set of top customers that Michael and team should target.\n",
    "        <BR><BR>**Analytic goals**\n",
    "> * What should be the entity on which we should build a propensity model? As Exhibit 5 shows, only about 1.6 million out of about 7 million visitors had an e-mail id.\n",
    "> * We should decide on the sampling strategy, Should we use random sampling, time-based sampling or stratified random sampling?\n",
    "> * What data sciences and machine learning techniques should we try out in this instance?\n",
    "> * What cross-validation or training-validation technique should we use in order to have an estimate\n",
    "of how the model would perform in the real world?\n",
    "<BR><BR>**Scope of solution**\n",
    "    <BR><BR> A propensity model to rank ordered e-mail ids or customers in their decreasing order of likelihood to purchase.\n",
    "    A binary classification problem, where the visitor either buys or does not buy Workstation. The target variable will be if a visitor who visited the site buys Workstation in the next few months. The value of that target can be either 0 or 1, making it a classical binary classification problem.<BR>\n",
    "\n",
    "        \n",
    "> **Plan the analysis**<BR>\n",
    "        * Plan the dataset<BR>\n",
    "        * Plan the methods<BR><BR>\n",
    "        **Plan the Dataset**<BR>\n",
    "        - For example: Say we need to predict who will buy during April–June 2016. In this instance:\n",
    ">- For training, we could aggregate data up to September 2015 and predict the Workstation buyers during October–December 2015.\n",
    ">- For validation, we could aggregate data up to December 2015 and compare the predictions against actual Workstation buyers during January–March 2016.\n",
    ">- For scoring, we could aggregate the data up to March 2016.<BR><BR>\n",
    "    **Plan the method**<BR>\n",
    ">* We could try any 2-class classifier such as Naïve Bayes, Logistic Regression, Decision Tree, or machine learning algorithms such as Random Forest, Gradient Boosting, etc. We could compare the lift curves of different models to see which one would work best.**\n",
    ">* We could use the lift numbers on the validation set to obtain an estimate of the real world\n",
    "\n",
    "\n",
    "   "
   ]
  },
  {
   "cell_type": "markdown",
   "id": "097727e9",
   "metadata": {},
   "source": [
    "### sampling"
   ]
  },
  {
   "cell_type": "markdown",
   "id": "89fdbfb4",
   "metadata": {},
   "source": [
    "###  What is the right cross-validation strategy for this problem? What would happen if we choose random sampling in this scenario or stratified sampling scenario?"
   ]
  },
  {
   "cell_type": "markdown",
   "id": "29791e98",
   "metadata": {},
   "source": [
    "<div class=\"alert alert-block alert-danger\" >\n",
    "    \n",
    "**Time-based-sampling** is the right cross-validation strategy for this problem. If we choose**random sampling**, where in random sampling, sample of items is chosen randomly from a population, and each item has an equal probability of being chosen, from ~4MM store visitors with email-id and having only 0.5MM unique emails of workstation buyers, the imbalance ratio (No of majority class/No of minority class) = (4-0.5)/0.5 = 7 and when > 4, the class is seeing high imbalance ratio. If we did choose random sampling there would be bias in our estimate of classification on the test data, as the model would not have recorded the pattern of minority class. Due to the imbalance of classes.\n",
    "\n",
    "Choosing **stratified sampling** is also not the right approach because, Stratified random sampling ensures that each subgroup of a given population(workstation,desktop and none) is adequately represented within the whole sample population of a study. Stratification can be proportionate or disproportionate. In a proportionate stratified method, the sample size of each stratum is proportionate to the population size of the stratum.<BR>In a disproportional stratified sample, the size of each stratum is not proportional to its size in the population. The researcher may decide to sample 1/2 of the desktop buyers and 1/3 of the workstation buyers.<BR>\n",
    "    Stratified sampling is not useful when the population cannot be exhaustively partitioned into disjoint subgroups. The problem of stratified sampling in the case of unknown class priors (ratio of subpopulations in the entire population) can have deleterious effect on the performance of any analysis on the dataset, e.g. classification."
   ]
  },
  {
   "cell_type": "markdown",
   "id": "0fd666c0",
   "metadata": {},
   "source": [
    "### What could be the training data and validation datasets for the model? How should we go about choosing that and what should be the reasons for the same?"
   ]
  },
  {
   "cell_type": "markdown",
   "id": "249f7033",
   "metadata": {},
   "source": [
    "<div class=\"alert alert-block alert-danger\" >\n",
    "For example: Say we need to predict who will buy during April–June 2016. In this instance:\n",
    "* For training, we could aggregate data up to September 2015 and predict the Workstation buyers during October–December 2015.\n",
    "* For validation, we could aggregate data up to December 2015 and compare the predictions against actual Workstation buyers during January–March 2016.\n",
    "* For scoring, we could aggregate the data up to March 2016."
   ]
  },
  {
   "cell_type": "markdown",
   "id": "218bde70",
   "metadata": {},
   "source": [
    "<div class=\"alert alert-block alert-danger\" >\n",
    "For training, we will use aggregate data up to September 2015 and predict the Workstation buyers durg October–December 2015."
   ]
  },
  {
   "cell_type": "code",
   "execution_count": 29,
   "id": "05d250e0",
   "metadata": {},
   "outputs": [],
   "source": [
    "X_train=df_train[df_train['last_any_product_purchase_date']<'2015-09-01'].loc[:,df_train.columns!=response_variable]\n",
    "y_train = df_train[df_train['last_any_product_purchase_date']<'2015-09-01'].loc[:,response_variable]\n",
    "X_test=df_train[df_train['last_any_product_purchase_date']>'2015-09-01'].loc[:,df_train.columns!=response_variable]\n",
    "y_test = df_train[df_train['last_any_product_purchase_date']>'2015-09-01'].loc[:,response_variable]"
   ]
  },
  {
   "cell_type": "markdown",
   "id": "0dd57bd9",
   "metadata": {},
   "source": [
    "<div class=\"alert alert-block alert-danger\" >\n",
    "For vlidation use aggregate data till 2015 december and predict on purchases during Jan 2016 to march 2016"
   ]
  },
  {
   "cell_type": "code",
   "execution_count": 30,
   "id": "efac4077",
   "metadata": {},
   "outputs": [],
   "source": [
    "X_val=df_train.drop(response_variable,axis=1)\n",
    "y_val=df_train[response_variable]\n",
    "X_val_test= df_val[df_val['last_any_product_purchase_date']>'2015-12-01'].loc[:,df_val.columns!=response_variable]\n",
    "y_val_test= df_val[df_val['last_any_product_purchase_date']>'2015-12-01'].loc[:,response_variable]\n"
   ]
  },
  {
   "cell_type": "markdown",
   "id": "3b1b8580",
   "metadata": {},
   "source": [
    "<div class=\"alert alert-block alert-danger\" >\n",
    "for scoring we will be using aggregated data till March 2016"
   ]
  },
  {
   "cell_type": "code",
   "execution_count": 31,
   "id": "f8081fcd",
   "metadata": {},
   "outputs": [],
   "source": [
    "X_score=df_val.drop(response_variable,axis=1)\n",
    "y_score=df_val[response_variable]"
   ]
  },
  {
   "cell_type": "markdown",
   "id": "9305aba5",
   "metadata": {},
   "source": [
    "shape"
   ]
  },
  {
   "cell_type": "code",
   "execution_count": 32,
   "id": "c47dab00",
   "metadata": {
    "scrolled": true
   },
   "outputs": [
    {
     "data": {
      "text/plain": [
       "((61667, 475), (11841, 475), (77493, 475), (2589, 475), (37850, 475))"
      ]
     },
     "execution_count": 32,
     "metadata": {},
     "output_type": "execute_result"
    }
   ],
   "source": [
    "X_train.shape,X_test.shape,X_val.shape,X_val_test.shape,X_score.shape"
   ]
  },
  {
   "cell_type": "markdown",
   "id": "27abe8df",
   "metadata": {},
   "source": [
    "### Choice of evaluation metric"
   ]
  },
  {
   "cell_type": "markdown",
   "id": "643ca151",
   "metadata": {},
   "source": [
    "### What are the pros and cons of using accuracy as a metric vs. precision vs. recall vs. F-score vs. Area-under-curve? Which is better and why? What is area-under-curve? "
   ]
  },
  {
   "cell_type": "markdown",
   "id": "c45b5537",
   "metadata": {},
   "source": [
    "Accuracy : is given by the following formula:\n",
    "\n",
    "$ Accuracy = \\frac{True positive + True Negative}{True positive +False Positive+ True Negative+False Neagative}$\n",
    "\n",
    "Pro: \n",
    "* Accuracy represents the number of correctly classified data instances over the total number of data instances.\n",
    "* Easy to interpret. If we say that a model is 90% accurate, we know that it correctly classified 90% of observations.\n",
    "\n",
    "Con:\n",
    "* Does not take into account how the data is distributed. \n",
    "* **Imbalanced dataset:** When you have imbalanced data (does not have an even number of classes). You may achieve an accuracy of 95% or more but is not a good score if 95 records for every 100 belong to one class as you can achieve this score by always predicting the most common class value.\n",
    "* **Multi-class target variable:** When your data has more than 2 classes. With 3 or more classes you may get a classification accuracy of 80%, but you don’t know if that is because all classes are being predicted equally well or whether one or two classes are being neglected by the model.\n",
    "\n",
    "Specificity/TNR(True Negative Rate): is given by the following formula:\n",
    "\n",
    "$ Specificity = \\frac{Number of True Negatives }{Number of True Negatives + Number of False Positives}$\n",
    "\n",
    "lets say we have 100% specific model, that means it did NOT miss any True Negative, in other words, there were NO False Positives (i.e. negative result that is falsely labeled as positive). Yet, there is a risk of having a lot of False Positives!\n",
    "\n",
    "Precision: is given by the following formula: \n",
    "\n",
    "$ Precision = \\frac{True Positive }{True Positive +  False Positive}$\n",
    "\n",
    "Intuitively speaking, if we have a 100% precise model, that means it could catch all True positive but there were NO False Positive.<\\n>\n",
    "\n",
    "Recall/Senitivity/TPR(True positive rate): is given by the following formula:\n",
    "\n",
    "$Recall =  \\frac{True Positive }{True Positive +  False Negative}$  \n",
    "\n",
    "Intuitively speaking, if we have a 100% recall model, that means it did NOT miss any True Positive, in other words, there were NO False Negatives (i.e. a positive result that is falsely labeled as negative). Yet, there is a risk of having a lot of False Positives!\n",
    "\n",
    "Pro: \n",
    "* You can calculate this metric for both, i) cases the model predicted 1, and ii) cases the model predicted 0. \n",
    "* Precision calculates the ability of a classifier to not label a true negative observation as positive.\n",
    "* Recall calculates the ability of a classifier to find positive observations in the dataset.\n",
    "\n",
    "Con:\n",
    "* Recall and Precision are inversely related\n",
    "\n",
    "**F1-score**\n",
    "\n",
    "F1 Score: Harmonic mean of precision and recall(a weighted average of the precision and recall)\n",
    "\n",
    "$F1-score = 2*\\frac{Precision*Recall}{Precision+Recall}$\n",
    "\n",
    "Pro:\n",
    "* Takes into account how the data is distributed. For example, if the data is highly imbalanced (e.g. 90% of all visitors do not get registered and 10% do get registered) then F1 score will provide a better assessment of model performance.\n",
    "* calculate f1 for each label, then compute unweighted mean\n",
    "* can be used for multi-class/multi-label problems by choosing the average method\n",
    "\n",
    "Con: \n",
    "* Harder to interpret. \n",
    "\n",
    "We often use accuracy when the classes are balanced and there is no major downside to predicting false negatives.\n",
    "\n",
    "We often use F1 score when the classes are imbalanced and there is a serious downside to predicting false negatives.\n",
    "\n",
    "**Area-under-curve**\n",
    "\n",
    "ROC (Receiver Operating Characteristic) Curve tells us about how good the model can distinguish between two things. Thus, AUC ROC indicates how well the probabilities from the positive classes are separated from the negative classes.\n",
    "It compares the Sensitivity vs (1-Specificity), in other words, compare the True Positive Rate vs False Positive Rate.\n",
    "\n",
    "Pro:\n",
    "* independent of the response rate\n",
    "\n",
    "Con:\n",
    "* based on the ranking of probabilities, not the real probabilities values\n",
    "* not be able to interpret predictions as probabilities\n",
    "* problematic especially the data is imbalanced (highly skewed).\n",
    "* increasing of AUC doesn’t really reflect a better classifier. It’s just the side-effect of too many negative examples.\n",
    "\n",
    "**Which is better and why?**\n",
    "The first big difference is that we calculate accuracy on the predicted classes while ROC AUC is calculated on predicted scores,which means we will have to find the optimal threshold for the problem. \n",
    "\n",
    "Accuracy looks at fractions of correctly assigned positive and negative classes. So, if our records are highly imbalanced we get a really high accuracy score by simply predicting that all observations belong to the majority class.\n",
    "\n",
    "On the down side, if problems have balanced records and we care about both positive and negative predictions, accuracy is a good choice because it is really simple and easy to interpret.\n",
    "\n",
    "Another thing to remember is that ROC AUC is especially good at ranking predictions. Because of that, if we have a problem where sorting our observations is what we care about, for evaluation measures such as lift curve, ROC AUC is likely what we would be looking for.\n",
    "\n",
    "**What is area-under-curve?**\n",
    "\n",
    "Receiver Operating Characteristics (ROC) graphs are a useful technique for organizing classifiers and visualizing their performance. ROC graphs are commonly used in medical decision making. they have properties that make them especially useful for domains with skewed class distribution and unequal classification error costs.They are able to provide a richer measure of classification performance than accuracy or error rate can, and they have advantages over other evaluation measures such as precision-recall graphs and lift curves. However, as with any evaluation metric, using them wisely requires knowing their characteristics and limitations."
   ]
  },
  {
   "cell_type": "markdown",
   "id": "c2a0ab96",
   "metadata": {},
   "source": [
    "### Find the value of area-under-curve (AUC) for the different techniques – random forest, boosting, and logistic regression.!"
   ]
  },
  {
   "cell_type": "markdown",
   "id": "d3f2419c",
   "metadata": {},
   "source": [
    "df_train.shape should be (77493, 1185) after cleaning"
   ]
  },
  {
   "cell_type": "code",
   "execution_count": 8,
   "id": "f00cfe74",
   "metadata": {
    "scrolled": true
   },
   "outputs": [
    {
     "data": {
      "text/plain": [
       "((61667, 492), (11841, 492), (77493, 492), (2589, 492), (37850, 492))"
      ]
     },
     "execution_count": 8,
     "metadata": {},
     "output_type": "execute_result"
    }
   ],
   "source": [
    "X_train.shape,X_test.shape,X_val.shape,X_val_test.shape,X_score.shape"
   ]
  },
  {
   "cell_type": "code",
   "execution_count": 62,
   "id": "6c6a5b76",
   "metadata": {},
   "outputs": [
    {
     "data": {
      "text/html": [
       "<div>\n",
       "<style scoped>\n",
       "    .dataframe tbody tr th:only-of-type {\n",
       "        vertical-align: middle;\n",
       "    }\n",
       "\n",
       "    .dataframe tbody tr th {\n",
       "        vertical-align: top;\n",
       "    }\n",
       "\n",
       "    .dataframe thead th {\n",
       "        text-align: right;\n",
       "    }\n",
       "</style>\n",
       "<table border=\"1\" class=\"dataframe\">\n",
       "  <thead>\n",
       "    <tr style=\"text-align: right;\">\n",
       "      <th></th>\n",
       "      <th>MLA Name</th>\n",
       "      <th>MLA AUC</th>\n",
       "    </tr>\n",
       "  </thead>\n",
       "  <tbody>\n",
       "    <tr>\n",
       "      <th>1</th>\n",
       "      <td>GradientBoostingClassifier</td>\n",
       "      <td>0.999024</td>\n",
       "    </tr>\n",
       "    <tr>\n",
       "      <th>0</th>\n",
       "      <td>RandomForestClassifier</td>\n",
       "      <td>0.970737</td>\n",
       "    </tr>\n",
       "    <tr>\n",
       "      <th>2</th>\n",
       "      <td>LogisticRegressionCV</td>\n",
       "      <td>0.786895</td>\n",
       "    </tr>\n",
       "  </tbody>\n",
       "</table>\n",
       "</div>"
      ],
      "text/plain": [
       "                     MLA Name   MLA AUC\n",
       "1  GradientBoostingClassifier  0.999024\n",
       "0      RandomForestClassifier  0.970737\n",
       "2        LogisticRegressionCV  0.786895"
      ]
     },
     "execution_count": 62,
     "metadata": {},
     "output_type": "execute_result"
    }
   ],
   "source": [
    "#Crorss validated AUC Scores\n",
    "MLA_compare"
   ]
  },
  {
   "cell_type": "markdown",
   "id": "4e124169",
   "metadata": {},
   "source": [
    "<div class=\"alert alert-block alert-danger\" >\n",
    "`Lift is a measure of the effectiveness of a predictive model calculated as the ratio between the results obtained with and without the predictive model.`"
   ]
  },
  {
   "cell_type": "code",
   "execution_count": 46,
   "id": "d45f2b03",
   "metadata": {},
   "outputs": [
    {
     "name": "stdout",
     "output_type": "stream",
     "text": [
      "number of observations per decile: 1184\n"
     ]
    },
    {
     "data": {
      "image/png": "[encoded data removed]",
      "text/plain": [
       "<Figure size 576x288 with 1 Axes>"
      ]
     },
     "metadata": {
      "needs_background": "light"
     },
     "output_type": "display_data"
    }
   ],
   "source": [
    "boost=AdaBoostClassifier(base_estimator = LogisticRegression(class_weight='balanced'), algorithm = 'SAMME.R', n_estimators=10)\n",
    "boost.fit(X_train, y_train)\n",
    "\n",
    "y_pred_df = pd.DataFrame({'actual' : y_test ,\n",
    "                          'predicted_prob': boost.predict_proba(X_test)[:,1]})\n",
    "\n",
    "sorted_predict_df = y_pred_df[['predicted_prob','actual']].sort_values('predicted_prob',ascending=False)\n",
    "\n",
    "num_per_decile = int(len(sorted_predict_df)/10)\n",
    "print('number of observations per decile:' , num_per_decile)\n",
    "\n",
    "deciles_predicted_df = get_deciles(sorted_predict_df)\n",
    "\n",
    "gain_lift_df = pd.DataFrame(\n",
    "        deciles_predicted_df.groupby('decile')['actual'].sum()).reset_index()\n",
    "gain_lift_df.columns = ['decile','gain']\n",
    "\n",
    "gain_lift_df['gain__percetage']= (100* gain_lift_df.gain.cumsum()/gain_lift_df.gain.sum())\n",
    "gain_lift_df['lift']= (gain_lift_df.gain__percetage/(gain_lift_df.decile *10))\n",
    "\n",
    "import matplotlib.pyplot as plt\n",
    "plt.figure(figsize =(8,4))\n",
    "plt.plot(gain_lift_df['decile'],\n",
    "         gain_lift_df['lift'],'-')\n",
    "plt.title('Boosting_Lift')\n",
    "plt.show()"
   ]
  },
  {
   "cell_type": "code",
   "execution_count": 47,
   "id": "d4ce3c97",
   "metadata": {},
   "outputs": [
    {
     "name": "stdout",
     "output_type": "stream",
     "text": [
      "number of observations per decile: 1184\n"
     ]
    },
    {
     "data": {
      "image/png": "[encoded data removed]",
      "text/plain": [
       "<Figure size 576x288 with 1 Axes>"
      ]
     },
     "metadata": {
      "needs_background": "light"
     },
     "output_type": "display_data"
    }
   ],
   "source": [
    "LR=LogisticRegressionCV(class_weight='balanced')\n",
    "LR.fit(X_train, y_train)\n",
    "\n",
    "y_pred_df = pd.DataFrame({'actual' : y_test ,\n",
    "                          'predicted_prob': LR.predict_proba(X_test)[:,1]})\n",
    "\n",
    "sorted_predict_df = y_pred_df[['predicted_prob','actual']].sort_values('predicted_prob',ascending=False)\n",
    "\n",
    "num_per_decile = int(len(sorted_predict_df)/10)\n",
    "print('number of observations per decile:' , num_per_decile)\n",
    "\n",
    "deciles_predicted_df = get_deciles(sorted_predict_df)\n",
    "\n",
    "gain_lift_df = pd.DataFrame(\n",
    "        deciles_predicted_df.groupby('decile')['actual'].sum()).reset_index()\n",
    "gain_lift_df.columns = ['decile','gain']\n",
    "\n",
    "gain_lift_df['gain__percetage']= (100* gain_lift_df.gain.cumsum()/gain_lift_df.gain.sum())\n",
    "gain_lift_df['lift']= (gain_lift_df.gain__percetage/(gain_lift_df.decile *10))\n",
    "\n",
    "import matplotlib.pyplot as plt\n",
    "plt.figure(figsize =(8,4))\n",
    "plt.plot(gain_lift_df['decile'],\n",
    "         gain_lift_df['lift'],'-')\n",
    "plt.title('Logistic_regression_Lift')\n",
    "plt.show()"
   ]
  },
  {
   "cell_type": "markdown",
   "id": "ac49bb1c",
   "metadata": {},
   "source": [
    "<div class=\"alert alert-block alert-danger\" >\n",
    "From the plot we can observe the following:\n",
    "    \n",
    "b. RandomForest gives highest lift in the top decile\n",
    "     \n",
    "c. RandomForest gives best lift in the top quartile"
   ]
  },
  {
   "cell_type": "markdown",
   "id": "513c5590",
   "metadata": {},
   "source": [
    "### What feature selection techniques could be used to reduce the number of features? What other feature selection techniques could be used in this scenario?"
   ]
  },
  {
   "cell_type": "markdown",
   "id": "fed11440",
   "metadata": {},
   "source": [
    "<div class=\"alert alert-block alert-danger\" >\n",
    "`We could use Chi-Square_test,Correlation_coefficients, Variance threshold, Mean Absolute Difference, Forward feature selction, Backward feature elimination, reccursive feature elemination.`\n",
    "\n",
    "`We could also use Lasso Regularization or Random forest feature importance`"
   ]
  },
  {
   "cell_type": "markdown",
   "id": "486bac19",
   "metadata": {},
   "source": [
    "**Example**"
   ]
  },
  {
   "cell_type": "code",
   "execution_count": 43,
   "id": "eff200e1",
   "metadata": {},
   "outputs": [
    {
     "name": "stdout",
     "output_type": "stream",
     "text": [
      " With correlation greater than 0.8 we can drop 240 highly correlated features and reduce features and data redundancy\n"
     ]
    }
   ],
   "source": [
    "df_corr=X_train.copy()\n",
    "upper = df_corr.where(np.triu(np.ones(df_corr.shape), k=1).astype(np.bool))\n",
    "\n",
    "to_drop = [column for column in upper.columns if any(abs(upper[column]) > 0.8)]\n",
    "print(f' With correlation greater than 0.8 we can drop {len(to_drop)} highly correlated features and reduce features and data redundancy')"
   ]
  },
  {
   "cell_type": "markdown",
   "id": "cc69ce81",
   "metadata": {},
   "source": [
    "or get top 20 features by randomforest feature importance"
   ]
  },
  {
   "cell_type": "code",
   "execution_count": 49,
   "id": "f3c685dc",
   "metadata": {},
   "outputs": [
    {
     "data": {
      "image/png": "[encoded data removed]",
      "text/plain": [
       "<Figure size 432x288 with 1 Axes>"
      ]
     },
     "metadata": {
      "needs_background": "light"
     },
     "output_type": "display_data"
    }
   ],
   "source": [
    "features = X_train.columns\n",
    "importances = rf.feature_importances_\n",
    "indices = np.argsort(importances)[-20:]  # top 10 features\n",
    "plt.title('Feature Importances')\n",
    "plt.barh(range(len(indices)), importances[indices], color='b', align='center')\n",
    "plt.yticks(range(len(indices)), [features[i] for i in indices])\n",
    "plt.xlabel('Relative Importance')\n",
    "plt.show()"
   ]
  },
  {
   "cell_type": "code",
   "execution_count": 46,
   "id": "56c47a9c",
   "metadata": {},
   "outputs": [
    {
     "data": {
      "text/plain": [
       "1    0.553315\n",
       "0    0.446685\n",
       "Name: trainy_period_workstation_purchase_flag, dtype: float64"
      ]
     },
     "execution_count": 46,
     "metadata": {},
     "output_type": "execute_result"
    }
   ],
   "source": [
    "df_train[df_train['ftr_prodV_only']==0][response_variable].value_counts(normalize=True)"
   ]
  },
  {
   "cell_type": "markdown",
   "id": "97b86444",
   "metadata": {},
   "source": [
    "**The most important feature when respose variable is 0 contains 55% 1 and 44% times 0**"
   ]
  },
  {
   "cell_type": "code",
   "execution_count": 45,
   "id": "0bdb50ff",
   "metadata": {},
   "outputs": [
    {
     "data": {
      "text/plain": [
       "0    71988\n",
       "Name: trainy_period_workstation_purchase_flag, dtype: int64"
      ]
     },
     "execution_count": 45,
     "metadata": {},
     "output_type": "execute_result"
    }
   ],
   "source": [
    "df_train[df_train['ftr_prodV_only']==1][response_variable].value_counts()"
   ]
  },
  {
   "cell_type": "markdown",
   "id": "894f8cd7",
   "metadata": {},
   "source": [
    "**The most important feature when respose variable is 1 contains only records classified as 0 for the feature 'ftr_prodV_only which is classified as the most important variable under RF model**"
   ]
  },
  {
   "cell_type": "code",
   "execution_count": 37,
   "id": "a0d40354",
   "metadata": {},
   "outputs": [
    {
     "data": {
      "text/plain": [
       "total_prodV_bookings_amount  trainy_period_workstation_purchase_flag\n",
       "-1294.85                     0                                          1\n",
       "-439.50                      0                                          1\n",
       "-286.00                      0                                          1\n",
       "-230.58                      0                                          1\n",
       "-200.00                      0                                          1\n",
       "                                                                       ..\n",
       " 61158.15                    1                                          1\n",
       " 129496.82                   0                                          1\n",
       " 189925.80                   0                                          1\n",
       " 3958462.06                  1                                          1\n",
       " 7745657.81                  1                                          1\n",
       "Name: trainy_period_workstation_purchase_flag, Length: 10896, dtype: int64"
      ]
     },
     "execution_count": 37,
     "metadata": {},
     "output_type": "execute_result"
    }
   ],
   "source": [
    "df_train.groupby(['total_prodV_bookings_amount'])[response_variable].value_counts()"
   ]
  },
  {
   "cell_type": "code",
   "execution_count": 50,
   "id": "f8e2962f",
   "metadata": {},
   "outputs": [],
   "source": [
    "imp_features=[features[i] for i in indices]"
   ]
  },
  {
   "cell_type": "code",
   "execution_count": 51,
   "id": "96219936",
   "metadata": {},
   "outputs": [
    {
     "data": {
      "text/plain": [
       "['tot_first_touch_direct_views',\n",
       " 'ftr_growth_prodG_14_15',\n",
       " 'days_bw_prodG_launch_and_purch',\n",
       " 'prodG_2015_bookings_amount',\n",
       " 'prodG_2013_bookings_amount',\n",
       " 'total_bookings_amount',\n",
       " 'first_any_product_purch_date_year',\n",
       " 'channel_web_total',\n",
       " 'ftr_growth_prodG_12_13',\n",
       " 'prodG_2014_bookings_amount',\n",
       " 'total_amount',\n",
       " 'tot_microsoft_browser_visits',\n",
       " 'tot_apple_browser_visits',\n",
       " 'total_prodG_booking_amount',\n",
       " 'channel_total',\n",
       " 'tot_windows_visits',\n",
       " 'total_prodV_bookings_amount',\n",
       " 'prodV_booking_pct',\n",
       " 'prodG_booking_pct',\n",
       " 'ftr_prodV_only']"
      ]
     },
     "execution_count": 51,
     "metadata": {},
     "output_type": "execute_result"
    }
   ],
   "source": [
    "imp_features"
   ]
  },
  {
   "cell_type": "markdown",
   "id": "31e8c821",
   "metadata": {},
   "source": [
    "The above Features will be used in our modelling from henceforth"
   ]
  },
  {
   "cell_type": "markdown",
   "id": "a6178505",
   "metadata": {},
   "source": [
    "### Modeling Technique"
   ]
  },
  {
   "cell_type": "markdown",
   "id": "822f4406",
   "metadata": {},
   "source": [
    "\n",
    "<div class=\"alert alert-block alert-danger\" >\n",
    "The main difference between random forests and gradient boosting lies in how the decision trees are created and aggregated. Unlike random forests, the decision trees in gradient boosting are built additively; in other words, each decision tree is built one after another.\n",
    "\n",
    "However, these trees are not being added without purpose. Each new tree is built to improve on the deficiencies of the previous trees and this concept is called boosting.\n",
    "\n",
    "The gradient part of gradient boosting comes from minimising the gradient of the loss function as the algorithm builds each tree.\n",
    "\n",
    "Another key difference between random forests and gradient boosting is how they aggregate their results. In random forests, the results of decision trees are aggregated at the end of the process. Gradient boosting doesn’t do this and instead aggregates the results of each decision tree along the way to calculate the final result.\n",
    "\n",
    "Overall, gradient boosting usually performs better than random forests but they’re prone to overfitting; to avoid this, we need to remember to tune the parameters carefully."
   ]
  },
  {
   "cell_type": "markdown",
   "id": "8c11ea47",
   "metadata": {},
   "source": [
    "* max_depth='None'\n",
    "* n_estimators=200"
   ]
  },
  {
   "cell_type": "markdown",
   "id": "c0ca7fda",
   "metadata": {},
   "source": [
    "In other words, the most ideal random forest model for this training set contains 200 decision trees with a maximum depth of 'None'."
   ]
  },
  {
   "cell_type": "code",
   "execution_count": 58,
   "id": "8818e70d",
   "metadata": {},
   "outputs": [
    {
     "name": "stdout",
     "output_type": "stream",
     "text": [
      "Fit time: 11.681 / Predict time: 0.356\n",
      "Precision: 0.891 / Recall: 0.63 / Accuracy: 0.979\n",
      "AUC: 0.99\n"
     ]
    }
   ],
   "source": [
    "# Instantiate RandomForestClassifier with best hyperparameters \n",
    "rf = RandomForestClassifier(n_estimators = 200, max_depth =None, random_state = 10,class_weight='balanced_subsample')\n",
    "# Fit model\n",
    "start = time.time()\n",
    "rf_model = rf.fit(X_train[imp_features],y_train)\n",
    "end = time.time()\n",
    "fit_time = end - start\n",
    "# Predict \n",
    "start = time.time()\n",
    "Y_pred = rf_model.predict(X_test[imp_features])\n",
    "probas=rf.predict_proba(X_test[imp_features])[:,1]\n",
    "auc_score = roc_auc_score(y_test, probas)\n",
    "auc = round(auc_score, 2)\n",
    "end = time.time()\n",
    "pred_time = end - start\n",
    "# Time and prediction results\n",
    "precision, recall, fscore, support = precision_recall_fscore_support(y_test, Y_pred, average = 'binary')\n",
    "print(f\"Fit time: {round(fit_time, 3)} / Predict time: {round(pred_time, 3)}\")\n",
    "print(f\"Precision: {round(precision, 3)} / Recall: {round(recall, 3)} / Accuracy: {round((Y_pred==y_test).sum() / len(Y_pred), 3)}\")\n",
    "print(f\"AUC: {auc}\")"
   ]
  },
  {
   "cell_type": "markdown",
   "id": "6ed2bcc1",
   "metadata": {},
   "source": [
    "**Training accuracy is as seen above**"
   ]
  },
  {
   "cell_type": "code",
   "execution_count": 59,
   "id": "5f680be7",
   "metadata": {},
   "outputs": [
    {
     "name": "stdout",
     "output_type": "stream",
     "text": [
      "Fit time: 11.681 / Predict time: 1.003\n",
      "Precision: 0.911 / Recall: 0.766 / Accuracy: 0.988\n",
      "AUC: 1.0\n"
     ]
    }
   ],
   "source": [
    "# Predict on scoring set\n",
    "start = time.time()\n",
    "Y_pred = rf_model.predict(X_score[imp_features])\n",
    "probas=rf.predict_proba(X_score[imp_features])[:,1]\n",
    "auc_score = roc_auc_score(y_score, probas)\n",
    "auc = round(auc_score, 2)\n",
    "end = time.time()\n",
    "pred_time = end - start\n",
    "# Time and prediction results\n",
    "precision, recall, fscore, support = precision_recall_fscore_support(y_score, Y_pred, average = 'binary')\n",
    "print(f\"Fit time: {round(fit_time, 3)} / Predict time: {round(pred_time, 3)}\")\n",
    "print(f\"Precision: {round(precision, 3)} / Recall: {round(recall, 3)} / Accuracy: {round((Y_pred==y_score).sum() / len(Y_pred), 3)}\")\n",
    "print(f\"AUC: {auc}\")"
   ]
  },
  {
   "cell_type": "markdown",
   "id": "ce0cb305",
   "metadata": {},
   "source": [
    "**scoring accuracy is as above, we have good AUC with the scoring data**"
   ]
  },
  {
   "cell_type": "code",
   "execution_count": 68,
   "id": "ded98571",
   "metadata": {},
   "outputs": [
    {
     "data": {
      "text/plain": [
       "<AxesSubplot:>"
      ]
     },
     "execution_count": 68,
     "metadata": {},
     "output_type": "execute_result"
    },
    {
     "data": {
      "image/png": "[encoded data removed]",
      "text/plain": [
       "<Figure size 432x288 with 2 Axes>"
      ]
     },
     "metadata": {
      "needs_background": "light"
     },
     "output_type": "display_data"
    }
   ],
   "source": [
    "# Confusion matrix for GradientBoostingClassifier\n",
    "import seaborn as sns\n",
    "matrix = confusion_matrix(y_score, Y_pred)\n",
    "sns.heatmap(matrix, annot = True, fmt = 'd')"
   ]
  },
  {
   "cell_type": "code",
   "execution_count": 71,
   "id": "539dc85c",
   "metadata": {},
   "outputs": [
    {
     "name": "stdout",
     "output_type": "stream",
     "text": [
      "Fit time: 24.502 / Predict time: 0.059\n",
      "Precision: 0.89 / Recall: 0.533 / Accuracy: 0.975\n",
      "AUC: 0.99\n"
     ]
    }
   ],
   "source": [
    "# Instantiate GradientBoostingClassifier with best hyperparameters \n",
    "rf = GradientBoostingClassifier(n_estimators = 250, max_depth = 3, learning_rate = 0.01, random_state = 42)\n",
    "# Fit model\n",
    "start = time.time()\n",
    "rf_model = rf.fit(X_train[imp_features],y_train)\n",
    "end = time.time()\n",
    "fit_time = end - start\n",
    "# Predict \n",
    "start = time.time()\n",
    "Y_pred = rf_model.predict(X_test[imp_features])\n",
    "probas=rf.predict_proba(X_test[imp_features])[:,1]\n",
    "auc_score = roc_auc_score(y_test, probas)\n",
    "auc = round(auc_score, 2)\n",
    "end = time.time()\n",
    "pred_time = end - start\n",
    "# Time and prediction results\n",
    "precision, recall, fscore, support = precision_recall_fscore_support(y_test, Y_pred, average = 'binary')\n",
    "print(f\"Fit time: {round(fit_time, 3)} / Predict time: {round(pred_time, 3)}\")\n",
    "print(f\"Precision: {round(precision, 3)} / Recall: {round(recall, 3)} / Accuracy: {round((Y_pred==y_test).sum() / len(Y_pred), 3)}\")\n",
    "print(f\"AUC: {auc}\")"
   ]
  },
  {
   "cell_type": "raw",
   "id": "3ace28fe",
   "metadata": {},
   "source": [
    "Training accuracy is as seen above"
   ]
  },
  {
   "cell_type": "code",
   "execution_count": 72,
   "id": "6dbcd507",
   "metadata": {},
   "outputs": [
    {
     "name": "stdout",
     "output_type": "stream",
     "text": [
      "Fit time: 24.502 / Predict time: 0.193\n",
      "Precision: 0.923 / Recall: 0.703 / Accuracy: 0.986\n",
      "AUC: 1.0\n"
     ]
    }
   ],
   "source": [
    "# Predict on scoring set\n",
    "start = time.time()\n",
    "Y_pred = rf_model.predict(X_score[imp_features])\n",
    "probas=rf.predict_proba(X_score[imp_features])[:,1]\n",
    "auc_score = roc_auc_score(y_score, probas)\n",
    "auc = round(auc_score, 2)\n",
    "end = time.time()\n",
    "pred_time = end - start\n",
    "# Time and prediction results\n",
    "precision, recall, fscore, support = precision_recall_fscore_support(y_score, Y_pred, average = 'binary')\n",
    "print(f\"Fit time: {round(fit_time, 3)} / Predict time: {round(pred_time, 3)}\")\n",
    "print(f\"Precision: {round(precision, 3)} / Recall: {round(recall, 3)} / Accuracy: {round((Y_pred==y_score).sum() / len(Y_pred), 3)}\")\n",
    "print(f\"AUC: {auc}\")"
   ]
  },
  {
   "cell_type": "markdown",
   "id": "6c576e56",
   "metadata": {},
   "source": [
    "scoring accuracy is as above, we have good AUC with the scoring data "
   ]
  },
  {
   "cell_type": "markdown",
   "id": "ef444bcd",
   "metadata": {},
   "source": [
    "\n",
    "How could clustering be combined with classification for this problem?"
   ]
  },
  {
   "cell_type": "markdown",
   "id": "3d4b9929",
   "metadata": {},
   "source": [
    "#### \n",
    "<div class=\"alert alert-block alert-danger\" >\n",
    "Clustering is a type of unsupervised machine learning which aims to find homogeneous subgroups such that objects in the same group (clusters) are more similar to each other than the others.\n",
    "\n",
    "KMeans is a clustering algorithm which divides observations into k clusters. Since we can dictate the amount of clusters, it can be easily used in classification where we divide data into clusters which can be equal to or more than the number of classes.\n",
    "\n",
    "`In the VMWare dataset which is a collection of labelled workstations purchase flags, we can use KMeans to find clusters within the dataset and test how good it is as a feature`\n",
    "\n",
    "`Clustering apart from being an unsupervised machine learning can also be used to create clusters as features to improve classification models. On their own they aren’t enough for classification. But when used as features they improve model accuracy.`"
   ]
  },
  {
   "cell_type": "code",
   "execution_count": 109,
   "id": "dd06961e",
   "metadata": {},
   "outputs": [],
   "source": [
    "from sklearn.cluster import KMeans\n",
    "import warnings\n",
    "warnings.filterwarnings('ignore')"
   ]
  },
  {
   "cell_type": "markdown",
   "id": "8289fb95",
   "metadata": {},
   "source": [
    "### Predicting only K-Means Clustering"
   ]
  },
  {
   "cell_type": "code",
   "execution_count": 98,
   "id": "62dd4801",
   "metadata": {},
   "outputs": [
    {
     "name": "stdout",
     "output_type": "stream",
     "text": [
      "Accuracy: 0.816221928665786\n",
      "AUC: 0.53\n"
     ]
    }
   ],
   "source": [
    "clust(X_train,X_score,y_train,y_score).Kmeans(output='replace').classify(model=RandomForestClassifier(n_estimators = 200, max_depth =None, random_state = 10,class_weight='balanced_subsample'))\n",
    "# Fit model)"
   ]
  },
  {
   "cell_type": "markdown",
   "id": "4704791c",
   "metadata": {},
   "source": [
    "### Predicting without using K-Means Clustering using Logistics Regression"
   ]
  },
  {
   "cell_type": "code",
   "execution_count": 110,
   "id": "c79b56a8",
   "metadata": {},
   "outputs": [
    {
     "name": "stdout",
     "output_type": "stream",
     "text": [
      "Accuracy: 0.829881109643329\n",
      "AUC: 0.88\n"
     ]
    }
   ],
   "source": [
    "clust(X_train[imp_features],X_score[imp_features],y_train,y_score).classify()"
   ]
  },
  {
   "cell_type": "markdown",
   "id": "fefe2a31",
   "metadata": {},
   "source": [
    "### Predicting using K-Means Clustering and Logistics Regression"
   ]
  },
  {
   "cell_type": "code",
   "execution_count": 111,
   "id": "14170a0c",
   "metadata": {},
   "outputs": [
    {
     "name": "stdout",
     "output_type": "stream",
     "text": [
      "Accuracy: 0.8964861294583883\n",
      "AUC: 0.95\n"
     ]
    }
   ],
   "source": [
    "clust(X_train[imp_features],X_score[imp_features],y_train,y_score).Kmeans(output='add').classify()"
   ]
  },
  {
   "cell_type": "markdown",
   "id": "da6c663e",
   "metadata": {},
   "source": [
    "`Clustering apart from being an unsupervised machine learning can also be used to create clusters as features to improve classification models. On their own they aren’t enough for classification as the results show. But when used as features they improve model accuracy.`"
   ]
  },
  {
   "cell_type": "markdown",
   "id": "70cf41ba",
   "metadata": {},
   "source": [
    "\n",
    "## \tWhat value of regularization parameter leads to the best results for penalized logistic regression?"
   ]
  },
  {
   "cell_type": "code",
   "execution_count": 52,
   "id": "7ab3b821",
   "metadata": {},
   "outputs": [
    {
     "name": "stdout",
     "output_type": "stream",
     "text": [
      "The best regularization parameter C is 1000.0\n"
     ]
    }
   ],
   "source": [
    "from sklearn.model_selection import KFold\n",
    "# Make a list of 6 C values to vary the range of regularization such that you get the best accuracy\n",
    "Clist = [1e-30,1e-20,1e-17,1e-15,1e-5,1e-3,1,1e3,1e5]\n",
    "\n",
    "# Create a dictionary to store the validation acurracies of corresponding c values\n",
    "validation_accuracy = {}\n",
    "\n",
    "for i in Clist:\n",
    "    cross_validation_score = []\n",
    "\n",
    "    # Specifying the number of splits needed\n",
    "    kf = KFold(n_splits=5)\n",
    "\n",
    "    # Getting the split indices iteratively\n",
    "    for train_index , val_index in kf.split(X_train_std):\n",
    "\n",
    "        # Getting the cross-validation train and val data using the indies\n",
    "        X_train_cross , X_val_cross = X_train_std[train_index,:],X_train_std[val_index,:]\n",
    "        y_train_std_cross , y_val_cross = y_train_std[train_index] , y_train_std[val_index]\n",
    "\n",
    "        # Making a logistic regression model\n",
    "        lr_l2 = LogisticRegression(C=i, max_iter=16000,class_weight='balanced',solver='newton-cg',penalty='l2')\n",
    "\n",
    "        # Fitting the model\n",
    "        lr_l2.fit(X_train_cross,y_train_std_cross)\n",
    "\n",
    "        # Predicting on val data and storing the accuracy\n",
    "        y_val_pred = lr_l2.predict(X_val_cross)\n",
    "        cross_validation_score.append(accuracy_score(y_val_cross, y_val_pred))\n",
    "    \n",
    "    # Storing the accuracy corresponding to every c-value \n",
    "    validation_accuracy[i] = np.mean(cross_validation_score)\n",
    "\n",
    "# Calculating the best value of c\n",
    "best_c = max(validation_accuracy.items(), key=lambda x: x[1])[0]\n",
    "print(f'The best regularization parameter C is {best_c}')"
   ]
  },
  {
   "cell_type": "markdown",
   "id": "c1cc7a9e",
   "metadata": {},
   "source": [
    "<div class=\"alert alert-block alert-danger\" >\n",
    "\n",
    "The best regularization parameter C is 1000.0"
   ]
  },
  {
   "cell_type": "code",
   "execution_count": 69,
   "id": "ef009e09",
   "metadata": {},
   "outputs": [
    {
     "data": {
      "image/png": "[encoded data removed]",
      "text/plain": [
       "<Figure size 648x648 with 2 Axes>"
      ]
     },
     "metadata": {
      "needs_background": "light"
     },
     "output_type": "display_data"
    }
   ],
   "source": [
    "# Training the best model\n",
    "lr_best = LogisticRegression(C=best_c, max_iter=16000,class_weight='balanced',solver='newton-cg',penalty='l2')\n",
    "lr_best.fit(X_train_std, y_train_std)\n",
    "y_pred_test = lr_best.predict(X_test_std)\n",
    "logreg_best_auc = roc_auc_score(y_test,y_pred_test)\n",
    "\n",
    "# Calculate confusion matrix\n",
    "cm = confusion_matrix(y_test, y_pred_test)\n",
    "plt.figure(figsize=(9,9))\n",
    "sns.heatmap(cm, annot=True, fmt=\".2f\");\n",
    "plt.ylabel('Actual label');\n",
    "plt.xlabel('Predicted label');\n",
    "plt.title(f'Accuracy Score: {round(accuracy_score(y_test,y_pred_test),2)},\"AUC\":{round(logreg_best_auc,2)} ', size = 15);"
   ]
  },
  {
   "cell_type": "markdown",
   "id": "e0ae76e3",
   "metadata": {},
   "source": [
    "## \tHow many features have non-zero coefficients when the penalization parameter alpha is set to 0?"
   ]
  },
  {
   "cell_type": "markdown",
   "id": "863ce0ff",
   "metadata": {},
   "source": [
    "setting alpha to 0 is building the model on ridge regularization, which from above penalty=L2 makes it ridge regularization"
   ]
  },
  {
   "cell_type": "code",
   "execution_count": 61,
   "id": "eec724fb",
   "metadata": {},
   "outputs": [
    {
     "data": {
      "image/png": "[encoded data removed]",
      "text/plain": [
       "<Figure size 432x288 with 1 Axes>"
      ]
     },
     "metadata": {
      "needs_background": "light"
     },
     "output_type": "display_data"
    }
   ],
   "source": [
    "from sklearn.linear_model import Ridge\n",
    "lr_zero = LogisticRegression(C=1000, max_iter=16000,class_weight='balanced',solver='newton-cg',penalty='l2')\n",
    "lr_zero.fit(X_train_std, y_train_std)\n",
    "rr0 = Ridge(alpha=0) \n",
    "# higher the alpha value, more restriction on the coefficients; low alpha > more generalization,\n",
    "# in this case linear and ridge regression resembles\n",
    "rr0.fit(X_train_std, y_train_std)\n",
    "rr100 = Ridge(alpha=1) #  comparison with alpha value 1\n",
    "rr100.fit(X_train_std, y_train_std)\n",
    "train_score=lr_zero.score(X_train_std, y_train_std)\n",
    "test_score=lr_zero.score(X_test_std, y_test_std)\n",
    "Ridge_train_score = rr0.score(X_train_std,y_train_std)\n",
    "Ridge_test_score = rr0.score(X_test_std, y_test_std)\n",
    "Ridge_train_score100 = rr100.score(X_train_std,y_train_std)\n",
    "Ridge_test_score100 = rr100.score(X_test_std, y_test_std)\n",
    "plt.plot(rr0.coef_,alpha=0.7,linestyle='none',marker='*',markersize=5,color='red',label=r'Ridge; $\\alpha = 0$',zorder=7) \n",
    "#plt.plot(rr100.coef_,alpha=0.5,linestyle='none',marker='d',markersize=6,color='blue',label=r'Ridge; $\\alpha = 1$') \n",
    "#plt.plot(lr_zero.coef_,alpha=0.4,linestyle='none',marker='o',markersize=7,color='green',label='Linear Regression')\n",
    "plt.xlabel('Coefficient Index',fontsize=16)\n",
    "plt.ylabel('Coefficient Magnitude',fontsize=16)\n",
    "plt.title('Regularization when ALPHA = 0')\n",
    "plt.legend(fontsize=13,loc=4)\n",
    "plt.show()\n"
   ]
  },
  {
   "cell_type": "markdown",
   "id": "36ae15b9",
   "metadata": {},
   "source": [
    "<div class=\"alert alert-block alert-danger\" >\n",
    "`When alpha is 0 we can observe that out of the 20 top important features, there were 2 with non zero coefficients`"
   ]
  },
  {
   "cell_type": "markdown",
   "id": "0ff82ce6",
   "metadata": {},
   "source": [
    "## \tWhat is the answer when the value is set to 1?"
   ]
  },
  {
   "cell_type": "code",
   "execution_count": 62,
   "id": "32278ba0",
   "metadata": {
    "scrolled": true
   },
   "outputs": [
    {
     "data": {
      "image/png": "[encoded data removed]",
      "text/plain": [
       "<Figure size 432x288 with 1 Axes>"
      ]
     },
     "metadata": {
      "needs_background": "light"
     },
     "output_type": "display_data"
    }
   ],
   "source": [
    "plt.plot(rr100.coef_,alpha=0.5,linestyle='none',marker='d',markersize=6,color='blue',label=r'Ridge; $\\alpha = 1$')\n",
    "plt.xlabel('Coefficient Index',fontsize=16)\n",
    "plt.ylabel('Coefficient Magnitude',fontsize=16)\n",
    "plt.title('Regularization when ALPHA = 1')\n",
    "plt.legend(fontsize=13,loc=4)\n",
    "plt.show()\n"
   ]
  },
  {
   "cell_type": "markdown",
   "id": "5b246df2",
   "metadata": {},
   "source": [
    "<div class=\"alert alert-block alert-danger\" >\n",
    "`When alpha is 1 we can observe that out of the 20 top important features, there were none with non zero coefficients`"
   ]
  },
  {
   "cell_type": "markdown",
   "id": "11a7e97a",
   "metadata": {},
   "source": [
    "## \tOne more way to compare regularized vs. normal logistic regression is to look at the values of the coefficients. Can you compare the values at each decile for a normal and regularized logistic regression?"
   ]
  },
  {
   "cell_type": "markdown",
   "id": "1af65c69",
   "metadata": {},
   "source": [
    "We will generate a normal logictics to compare with the best model genereated above "
   ]
  },
  {
   "cell_type": "code",
   "execution_count": 88,
   "id": "b9de40bf",
   "metadata": {},
   "outputs": [
    {
     "name": "stdout",
     "output_type": "stream",
     "text": [
      "LogisticRegression(class_weight='balanced', max_iter=1000, penalty='none') 0.65\n"
     ]
    },
    {
     "data": {
      "image/png": "[encoded data removed]",
      "text/plain": [
       "<Figure size 648x648 with 2 Axes>"
      ]
     },
     "metadata": {
      "needs_background": "light"
     },
     "output_type": "display_data"
    }
   ],
   "source": [
    "# Fit a vanilla Logistic Regression classifier and make predictions\n",
    "lr_normal = LogisticRegression(max_iter=1000, penalty='none',class_weight='balanced')\n",
    "lr_normal.fit(X_train[imp_features], y_train)\n",
    "y_pred_test = lr_normal.predict(X_test[imp_features])\n",
    "probas_normal = lr_normal.predict_proba(X_test[imp_features])[:,1]\n",
    "lr_normal_auc = round(roc_auc_score(y_test, probas_normal),2)\n",
    "\n",
    "print(lr_normal,lr_normal_auc)\n",
    "\n",
    "# Calculate confusion matrix\n",
    "cm = confusion_matrix(y_test, y_pred_test)\n",
    "plt.figure(figsize=(9,9))\n",
    "sns.heatmap(cm, annot=True, fmt=\".2f\");\n",
    "plt.ylabel('Actual label');\n",
    "plt.xlabel('Predicted label');\n",
    "plt.title(f'Accuracy Score: {round(accuracy_score(y_test,y_pred_test),2)}, AUC: {lr_normal_auc} ', size = 15);"
   ]
  },
  {
   "cell_type": "code",
   "execution_count": 176,
   "id": "eb91356c",
   "metadata": {},
   "outputs": [
    {
     "data": {
      "image/png": "[encoded data removed]",
      "text/plain": [
       "<Figure size 576x288 with 1 Axes>"
      ]
     },
     "metadata": {
      "needs_background": "light"
     },
     "output_type": "display_data"
    }
   ],
   "source": [
    "\n",
    "\n",
    "y_pred_df_normal = pd.DataFrame({'actual' : y_test ,\n",
    "                          'predicted_prob_lr_normal': lr_normal.predict_proba(X_test[imp_features])[:,1]})\n",
    "\n",
    "sorted_predict_df = y_pred_df_normal[['predicted_prob_lr_normal','actual']].sort_values('predicted_prob_lr_normal',ascending=False)\n",
    "\n",
    "deciles_predicted_df = get_deciles(sorted_predict_df)\n",
    "\n",
    "gain_lift_lr_normal = pd.DataFrame(\n",
    "        deciles_predicted_df.groupby('decile')['actual'].sum()).reset_index()\n",
    "gain_lift_lr_normal.columns = ['decile','gain']\n",
    "\n",
    "gain_lift_lr_normal['gain__percetage']= (100* gain_lift_lr_normal.gain.cumsum()/gain_lift_lr_normal.gain.sum())\n",
    "gain_lift_lr_normal['lift']= (gain_lift_lr_normal.gain__percetage/(gain_lift_lr_normal.decile *10))\n",
    "\n",
    "import matplotlib.pyplot as plt\n",
    "plt.figure(figsize =(8,4))\n",
    "plt.plot(gain_lift_lr_normal['decile'],\n",
    "         gain_lift_lr_normal['lift'],'-')\n",
    "plt.title('logistics_regression_normal_lift')\n",
    "plt.show()"
   ]
  },
  {
   "cell_type": "code",
   "execution_count": 163,
   "id": "e7d6c83f",
   "metadata": {},
   "outputs": [
    {
     "name": "stdout",
     "output_type": "stream",
     "text": [
      "number of observations per decile: 1184\n"
     ]
    }
   ],
   "source": [
    "num_per_decile = int(len(sorted_predict_df)/10)\n",
    "print('number of observations per decile:' , num_per_decile)"
   ]
  },
  {
   "cell_type": "code",
   "execution_count": 164,
   "id": "11a1bae1",
   "metadata": {},
   "outputs": [
    {
     "name": "stdout",
     "output_type": "stream",
     "text": [
      " Total records in our data is 11840\n"
     ]
    }
   ],
   "source": [
    "print(f' Total records in our data is {X_test.shape[0]//10*10}')"
   ]
  },
  {
   "cell_type": "code",
   "execution_count": 165,
   "id": "eb9bdad7",
   "metadata": {},
   "outputs": [
    {
     "data": {
      "text/plain": [
       "546"
      ]
     },
     "execution_count": 165,
     "metadata": {},
     "output_type": "execute_result"
    }
   ],
   "source": [
    "y_test.value_counts()[1]"
   ]
  },
  {
   "cell_type": "markdown",
   "id": "ce50183b",
   "metadata": {},
   "source": [
    "`We have 546 buyers of workstation in our test data` "
   ]
  },
  {
   "cell_type": "code",
   "execution_count": 180,
   "id": "1618331d",
   "metadata": {},
   "outputs": [],
   "source": [
    "gain_lift_lr_normal['No_of_observations']=[int(x) for x in list(np.linspace(0, X_test.shape[0], 10+1)[1:])] #10 because decile +1 for explicit pos argument\n",
    "gain_lift_lr_normal['No_of_WS_buyers_without_model']=[int(x) for x in list(np.linspace(0, y_test.value_counts()[1], 10+1)[1:])]\n",
    "gain_lift_lr_normal.rename(columns={'gain':'No_of_WS_buyers_using_model'},inplace=True)\n",
    "gain_lift_lr_normal['CumSum_positives_using_the_model']=gain_lift_lr_normal.No_of_WS_buyers_using_model.cumsum()\n",
    "rearrange_gain_lift_df_col=['decile', 'No_of_observations', 'No_of_WS_buyers_without_model', 'No_of_WS_buyers_using_model','CumSum_positives_using_the_model','gain__percetage', 'lift']"
   ]
  },
  {
   "cell_type": "code",
   "execution_count": 182,
   "id": "7cc8d85f",
   "metadata": {},
   "outputs": [
    {
     "data": {
      "text/html": [
       "<div>\n",
       "<style scoped>\n",
       "    .dataframe tbody tr th:only-of-type {\n",
       "        vertical-align: middle;\n",
       "    }\n",
       "\n",
       "    .dataframe tbody tr th {\n",
       "        vertical-align: top;\n",
       "    }\n",
       "\n",
       "    .dataframe thead th {\n",
       "        text-align: right;\n",
       "    }\n",
       "</style>\n",
       "<table border=\"1\" class=\"dataframe\">\n",
       "  <thead>\n",
       "    <tr style=\"text-align: right;\">\n",
       "      <th></th>\n",
       "      <th>decile</th>\n",
       "      <th>No_of_observations</th>\n",
       "      <th>No_of_WS_buyers_without_model</th>\n",
       "      <th>No_of_WS_buyers_using_model</th>\n",
       "      <th>CumSum_positives_using_the_model</th>\n",
       "      <th>gain__percetage</th>\n",
       "      <th>lift</th>\n",
       "    </tr>\n",
       "  </thead>\n",
       "  <tbody>\n",
       "    <tr>\n",
       "      <th>0</th>\n",
       "      <td>1</td>\n",
       "      <td>1184</td>\n",
       "      <td>54</td>\n",
       "      <td>72</td>\n",
       "      <td>72</td>\n",
       "      <td>13.186813</td>\n",
       "      <td>1.318681</td>\n",
       "    </tr>\n",
       "    <tr>\n",
       "      <th>1</th>\n",
       "      <td>2</td>\n",
       "      <td>2368</td>\n",
       "      <td>109</td>\n",
       "      <td>72</td>\n",
       "      <td>144</td>\n",
       "      <td>26.373626</td>\n",
       "      <td>1.318681</td>\n",
       "    </tr>\n",
       "    <tr>\n",
       "      <th>2</th>\n",
       "      <td>3</td>\n",
       "      <td>3552</td>\n",
       "      <td>163</td>\n",
       "      <td>74</td>\n",
       "      <td>218</td>\n",
       "      <td>39.926740</td>\n",
       "      <td>1.330891</td>\n",
       "    </tr>\n",
       "    <tr>\n",
       "      <th>3</th>\n",
       "      <td>4</td>\n",
       "      <td>4736</td>\n",
       "      <td>218</td>\n",
       "      <td>79</td>\n",
       "      <td>297</td>\n",
       "      <td>54.395604</td>\n",
       "      <td>1.359890</td>\n",
       "    </tr>\n",
       "    <tr>\n",
       "      <th>4</th>\n",
       "      <td>5</td>\n",
       "      <td>5920</td>\n",
       "      <td>273</td>\n",
       "      <td>130</td>\n",
       "      <td>427</td>\n",
       "      <td>78.205128</td>\n",
       "      <td>1.564103</td>\n",
       "    </tr>\n",
       "    <tr>\n",
       "      <th>5</th>\n",
       "      <td>6</td>\n",
       "      <td>7104</td>\n",
       "      <td>327</td>\n",
       "      <td>63</td>\n",
       "      <td>490</td>\n",
       "      <td>89.743590</td>\n",
       "      <td>1.495726</td>\n",
       "    </tr>\n",
       "    <tr>\n",
       "      <th>6</th>\n",
       "      <td>7</td>\n",
       "      <td>8288</td>\n",
       "      <td>382</td>\n",
       "      <td>26</td>\n",
       "      <td>516</td>\n",
       "      <td>94.505495</td>\n",
       "      <td>1.350078</td>\n",
       "    </tr>\n",
       "    <tr>\n",
       "      <th>7</th>\n",
       "      <td>8</td>\n",
       "      <td>9472</td>\n",
       "      <td>436</td>\n",
       "      <td>16</td>\n",
       "      <td>532</td>\n",
       "      <td>97.435897</td>\n",
       "      <td>1.217949</td>\n",
       "    </tr>\n",
       "    <tr>\n",
       "      <th>8</th>\n",
       "      <td>9</td>\n",
       "      <td>10656</td>\n",
       "      <td>491</td>\n",
       "      <td>9</td>\n",
       "      <td>541</td>\n",
       "      <td>99.084249</td>\n",
       "      <td>1.100936</td>\n",
       "    </tr>\n",
       "    <tr>\n",
       "      <th>9</th>\n",
       "      <td>10</td>\n",
       "      <td>11841</td>\n",
       "      <td>546</td>\n",
       "      <td>5</td>\n",
       "      <td>546</td>\n",
       "      <td>100.000000</td>\n",
       "      <td>1.000000</td>\n",
       "    </tr>\n",
       "  </tbody>\n",
       "</table>\n",
       "</div>"
      ],
      "text/plain": [
       "   decile  No_of_observations  No_of_WS_buyers_without_model  \\\n",
       "0       1                1184                             54   \n",
       "1       2                2368                            109   \n",
       "2       3                3552                            163   \n",
       "3       4                4736                            218   \n",
       "4       5                5920                            273   \n",
       "5       6                7104                            327   \n",
       "6       7                8288                            382   \n",
       "7       8                9472                            436   \n",
       "8       9               10656                            491   \n",
       "9      10               11841                            546   \n",
       "\n",
       "   No_of_WS_buyers_using_model  CumSum_positives_using_the_model  \\\n",
       "0                           72                                72   \n",
       "1                           72                               144   \n",
       "2                           74                               218   \n",
       "3                           79                               297   \n",
       "4                          130                               427   \n",
       "5                           63                               490   \n",
       "6                           26                               516   \n",
       "7                           16                               532   \n",
       "8                            9                               541   \n",
       "9                            5                               546   \n",
       "\n",
       "   gain__percetage      lift  \n",
       "0        13.186813  1.318681  \n",
       "1        26.373626  1.318681  \n",
       "2        39.926740  1.330891  \n",
       "3        54.395604  1.359890  \n",
       "4        78.205128  1.564103  \n",
       "5        89.743590  1.495726  \n",
       "6        94.505495  1.350078  \n",
       "7        97.435897  1.217949  \n",
       "8        99.084249  1.100936  \n",
       "9       100.000000  1.000000  "
      ]
     },
     "execution_count": 182,
     "metadata": {},
     "output_type": "execute_result"
    }
   ],
   "source": [
    "gain_lift_lr_normal[rearrange_gain_lift_df_col]"
   ]
  },
  {
   "cell_type": "markdown",
   "id": "f98780ca",
   "metadata": {},
   "source": [
    "<div class=\"alert alert-block alert-danger\" >\n",
    "From above we can observe that the from the **Normal Logistics regression model** we can reach 490 customers buying the workstation within the 5th decile while it would take upto the 9th decile for 490 customers to buy workstation  "
   ]
  },
  {
   "cell_type": "code",
   "execution_count": 197,
   "id": "93e78f26",
   "metadata": {},
   "outputs": [
    {
     "data": {
      "image/png": "[encoded data removed]",
      "text/plain": [
       "<Figure size 576x288 with 1 Axes>"
      ]
     },
     "metadata": {
      "needs_background": "light"
     },
     "output_type": "display_data"
    }
   ],
   "source": [
    "y_pred_df_best = pd.DataFrame({'actual' : y_test ,\n",
    "                          'predicted_prob_lr_best': lr_best.predict_proba(X_test_std)[:,1]})\n",
    "\n",
    "sorted_predict_df = y_pred_df_best[['predicted_prob_lr_best','actual']].sort_values('predicted_prob_lr_best',ascending=False)\n",
    "\n",
    "deciles_predicted_df = get_deciles(sorted_predict_df)\n",
    "\n",
    "gain_lift_lr_best = pd.DataFrame(\n",
    "        deciles_predicted_df.groupby('decile')['actual'].sum()).reset_index()\n",
    "gain_lift_lr_best.columns = ['decile','gain']\n",
    "\n",
    "gain_lift_lr_best['gain__percetage']= (100* gain_lift_lr_best.gain.cumsum()/gain_lift_lr_best.gain.sum())\n",
    "gain_lift_lr_best['lift']= (gain_lift_lr_best.gain__percetage/(gain_lift_lr_best.decile *10))\n",
    "\n",
    "import matplotlib.pyplot as plt\n",
    "plt.figure(figsize =(8,4))\n",
    "plt.plot(gain_lift_lr_best['decile'],\n",
    "         gain_lift_lr_best['lift'],'-')\n",
    "plt.title('logistics_regression_best_lift')\n",
    "plt.show()"
   ]
  },
  {
   "cell_type": "code",
   "execution_count": 198,
   "id": "8d17c579",
   "metadata": {},
   "outputs": [],
   "source": [
    "gain_lift_lr_best['No_of_observations']=[int(x) for x in list(np.linspace(0, X_test.shape[0], 10+1)[1:])] #10 because decile +1 for explicit pos argument\n",
    "gain_lift_lr_best['No_of_WS_buyers_without_model']=[int(x) for x in list(np.linspace(0, y_test.value_counts()[1], 10+1)[1:])]\n",
    "gain_lift_lr_best.rename(columns={'gain':'No_of_WS_buyers_using_model'},inplace=True)\n",
    "gain_lift_lr_best['CumSum_positives_using_the_model']=gain_lift_lr_best.No_of_WS_buyers_using_model.cumsum()\n",
    "rearrange_gain_lift_df_col=['decile', 'No_of_observations', 'No_of_WS_buyers_without_model', 'No_of_WS_buyers_using_model','CumSum_positives_using_the_model','gain__percetage', 'lift']"
   ]
  },
  {
   "cell_type": "code",
   "execution_count": 199,
   "id": "cd13cd1a",
   "metadata": {
    "scrolled": true
   },
   "outputs": [
    {
     "data": {
      "text/html": [
       "<div>\n",
       "<style scoped>\n",
       "    .dataframe tbody tr th:only-of-type {\n",
       "        vertical-align: middle;\n",
       "    }\n",
       "\n",
       "    .dataframe tbody tr th {\n",
       "        vertical-align: top;\n",
       "    }\n",
       "\n",
       "    .dataframe thead th {\n",
       "        text-align: right;\n",
       "    }\n",
       "</style>\n",
       "<table border=\"1\" class=\"dataframe\">\n",
       "  <thead>\n",
       "    <tr style=\"text-align: right;\">\n",
       "      <th></th>\n",
       "      <th>decile</th>\n",
       "      <th>No_of_observations</th>\n",
       "      <th>No_of_WS_buyers_without_model</th>\n",
       "      <th>No_of_WS_buyers_using_model</th>\n",
       "      <th>CumSum_positives_using_the_model</th>\n",
       "      <th>gain__percetage</th>\n",
       "      <th>lift</th>\n",
       "    </tr>\n",
       "  </thead>\n",
       "  <tbody>\n",
       "    <tr>\n",
       "      <th>0</th>\n",
       "      <td>1</td>\n",
       "      <td>1184</td>\n",
       "      <td>54</td>\n",
       "      <td>546</td>\n",
       "      <td>546</td>\n",
       "      <td>100.0</td>\n",
       "      <td>10.000000</td>\n",
       "    </tr>\n",
       "    <tr>\n",
       "      <th>1</th>\n",
       "      <td>2</td>\n",
       "      <td>2368</td>\n",
       "      <td>109</td>\n",
       "      <td>0</td>\n",
       "      <td>546</td>\n",
       "      <td>100.0</td>\n",
       "      <td>5.000000</td>\n",
       "    </tr>\n",
       "    <tr>\n",
       "      <th>2</th>\n",
       "      <td>3</td>\n",
       "      <td>3552</td>\n",
       "      <td>163</td>\n",
       "      <td>0</td>\n",
       "      <td>546</td>\n",
       "      <td>100.0</td>\n",
       "      <td>3.333333</td>\n",
       "    </tr>\n",
       "    <tr>\n",
       "      <th>3</th>\n",
       "      <td>4</td>\n",
       "      <td>4736</td>\n",
       "      <td>218</td>\n",
       "      <td>0</td>\n",
       "      <td>546</td>\n",
       "      <td>100.0</td>\n",
       "      <td>2.500000</td>\n",
       "    </tr>\n",
       "    <tr>\n",
       "      <th>4</th>\n",
       "      <td>5</td>\n",
       "      <td>5920</td>\n",
       "      <td>273</td>\n",
       "      <td>0</td>\n",
       "      <td>546</td>\n",
       "      <td>100.0</td>\n",
       "      <td>2.000000</td>\n",
       "    </tr>\n",
       "    <tr>\n",
       "      <th>5</th>\n",
       "      <td>6</td>\n",
       "      <td>7104</td>\n",
       "      <td>327</td>\n",
       "      <td>0</td>\n",
       "      <td>546</td>\n",
       "      <td>100.0</td>\n",
       "      <td>1.666667</td>\n",
       "    </tr>\n",
       "    <tr>\n",
       "      <th>6</th>\n",
       "      <td>7</td>\n",
       "      <td>8288</td>\n",
       "      <td>382</td>\n",
       "      <td>0</td>\n",
       "      <td>546</td>\n",
       "      <td>100.0</td>\n",
       "      <td>1.428571</td>\n",
       "    </tr>\n",
       "    <tr>\n",
       "      <th>7</th>\n",
       "      <td>8</td>\n",
       "      <td>9472</td>\n",
       "      <td>436</td>\n",
       "      <td>0</td>\n",
       "      <td>546</td>\n",
       "      <td>100.0</td>\n",
       "      <td>1.250000</td>\n",
       "    </tr>\n",
       "    <tr>\n",
       "      <th>8</th>\n",
       "      <td>9</td>\n",
       "      <td>10656</td>\n",
       "      <td>491</td>\n",
       "      <td>0</td>\n",
       "      <td>546</td>\n",
       "      <td>100.0</td>\n",
       "      <td>1.111111</td>\n",
       "    </tr>\n",
       "    <tr>\n",
       "      <th>9</th>\n",
       "      <td>10</td>\n",
       "      <td>11841</td>\n",
       "      <td>546</td>\n",
       "      <td>0</td>\n",
       "      <td>546</td>\n",
       "      <td>100.0</td>\n",
       "      <td>1.000000</td>\n",
       "    </tr>\n",
       "  </tbody>\n",
       "</table>\n",
       "</div>"
      ],
      "text/plain": [
       "   decile  No_of_observations  No_of_WS_buyers_without_model  \\\n",
       "0       1                1184                             54   \n",
       "1       2                2368                            109   \n",
       "2       3                3552                            163   \n",
       "3       4                4736                            218   \n",
       "4       5                5920                            273   \n",
       "5       6                7104                            327   \n",
       "6       7                8288                            382   \n",
       "7       8                9472                            436   \n",
       "8       9               10656                            491   \n",
       "9      10               11841                            546   \n",
       "\n",
       "   No_of_WS_buyers_using_model  CumSum_positives_using_the_model  \\\n",
       "0                          546                               546   \n",
       "1                            0                               546   \n",
       "2                            0                               546   \n",
       "3                            0                               546   \n",
       "4                            0                               546   \n",
       "5                            0                               546   \n",
       "6                            0                               546   \n",
       "7                            0                               546   \n",
       "8                            0                               546   \n",
       "9                            0                               546   \n",
       "\n",
       "   gain__percetage       lift  \n",
       "0            100.0  10.000000  \n",
       "1            100.0   5.000000  \n",
       "2            100.0   3.333333  \n",
       "3            100.0   2.500000  \n",
       "4            100.0   2.000000  \n",
       "5            100.0   1.666667  \n",
       "6            100.0   1.428571  \n",
       "7            100.0   1.250000  \n",
       "8            100.0   1.111111  \n",
       "9            100.0   1.000000  "
      ]
     },
     "execution_count": 199,
     "metadata": {},
     "output_type": "execute_result"
    }
   ],
   "source": [
    "gain_lift_lr_best[rearrange_gain_lift_df_col]"
   ]
  },
  {
   "cell_type": "markdown",
   "id": "a8614158",
   "metadata": {},
   "source": [
    "<div class=\"alert alert-block alert-danger\" >\n",
    "From above we can observe that the from the **Rgularized Logistics regression model** we can reach all the 546 customers buying the workstation within the 1st decile itself.Showing us the regularization works well for for dataset"
   ]
  },
  {
   "cell_type": "markdown",
   "id": "480ada6a",
   "metadata": {},
   "source": [
    "#### Comparing values of coeffecients"
   ]
  },
  {
   "cell_type": "code",
   "execution_count": 207,
   "id": "a23bddbe",
   "metadata": {},
   "outputs": [],
   "source": [
    "#make a dictionary of the coefficients along with the predictors as keys\n",
    "\n",
    "lreg_best_coef = dict(zip(X_train[imp_features].columns, np.transpose(lr_best.coef_)))\n",
    "\n",
    "#Linear regression coefficient values to plot\n",
    "\n",
    "lreg_reg_x = list(lreg_best_coef.keys())\n",
    "lreg_reg_y = list(lreg_best_coef.values())"
   ]
  },
  {
   "cell_type": "code",
   "execution_count": 208,
   "id": "c3eb695d",
   "metadata": {},
   "outputs": [],
   "source": [
    "#make a dictionary of the coefficients along with the predictors as keys\n",
    "lreg_normal_coef = dict(zip(X_train[imp_features].columns, np.transpose(lr_normal.coef_)))\n",
    "\n",
    "#Linear regression coefficient values to plot\n",
    "\n",
    "lreg_normal_x = list(lreg_normal_coef.keys())\n",
    "lreg_normal_y = list(lreg_normal_coef.values())"
   ]
  },
  {
   "cell_type": "markdown",
   "id": "2f998911",
   "metadata": {},
   "source": [
    "Normal linear regression coeeficients Max and Min"
   ]
  },
  {
   "cell_type": "code",
   "execution_count": 227,
   "id": "95afe0ed",
   "metadata": {},
   "outputs": [
    {
     "data": {
      "text/plain": [
       "(-6.512705361409642e-15, 6.09929847446008e-10)"
      ]
     },
     "execution_count": 227,
     "metadata": {},
     "output_type": "execute_result"
    }
   ],
   "source": [
    "min([float(x) for x in lreg_normal_y]),max([float(x) for x in lreg_normal_y])"
   ]
  },
  {
   "cell_type": "markdown",
   "id": "e02bbab1",
   "metadata": {},
   "source": [
    "Max coefficient for normal logistics regression is 6*10^-10 a very small coeffecient"
   ]
  },
  {
   "cell_type": "markdown",
   "id": "4bcbda46",
   "metadata": {},
   "source": [
    "Regularized linear regression coeeficients: Max and Min"
   ]
  },
  {
   "cell_type": "code",
   "execution_count": 224,
   "id": "c4aa0965",
   "metadata": {
    "scrolled": true
   },
   "outputs": [
    {
     "data": {
      "text/plain": [
       "(-5.248958713047074, 1.3258572106754494)"
      ]
     },
     "execution_count": 224,
     "metadata": {},
     "output_type": "execute_result"
    }
   ],
   "source": [
    "min([float(x) for x in lreg_reg_y]),max([float(x) for x in lreg_reg_y])"
   ]
  },
  {
   "cell_type": "code",
   "execution_count": 226,
   "id": "1291533a",
   "metadata": {},
   "outputs": [
    {
     "data": {
      "image/png": "[encoded data removed]",
      "text/plain": [
       "<Figure size 640x480 with 1 Axes>"
      ]
     },
     "metadata": {},
     "output_type": "display_data"
    }
   ],
   "source": [
    "plt.rcdefaults()\n",
    "\n",
    "plt.barh(lreg_normal_x,[float(x) for x in lreg_normal_y],1.0, align='edge',color=\"#D3B4B4\", label=\"Normal_logistics_regression\")\n",
    "plt.barh(lreg_reg_x,[float(x) for x in lreg_reg_y],0.75 ,align='edge',color=\"#81BDB2\",label = \"Regularized_logistics_regression\")\n",
    "\n",
    "plt.grid(linewidth=0.2)\n",
    "plt.xlabel(\"Coefficient\")\n",
    "plt.ylabel(\"Predictors\")\n",
    "plt.legend(loc='best')\n",
    "plt.xlim(-6.5e-15,3)\n",
    "plt.show()"
   ]
  },
  {
   "cell_type": "markdown",
   "id": "0fe8d257",
   "metadata": {},
   "source": [
    "### Comparing AUC of Normal LR and Regularized Logistics regression"
   ]
  },
  {
   "cell_type": "code",
   "execution_count": 231,
   "id": "40affdde",
   "metadata": {},
   "outputs": [
    {
     "data": {
      "image/png": "[encoded data removed]",
      "text/plain": [
       "<Figure size 1300x500 with 2 Axes>"
      ]
     },
     "metadata": {
      "needs_background": "light"
     },
     "output_type": "display_data"
    }
   ],
   "source": [
    "fig, ax = plt.subplots(1, 2, figsize = (13,5))\n",
    "fig.patch.set_facecolor('None')\n",
    "fig.patch.set_alpha(0)\n",
    "\n",
    "# Plotting the ROC curve for logistic regression without regularization\n",
    "y_probs = lr_normal.predict_proba(X_test[imp_features])[:,1]\n",
    "plot_roc(y_test,y_probs,lr_normal_auc,ax[0])\n",
    "ax[0].set_title('ROC curve (w/o regularization)')\n",
    "\n",
    "# Plotting the ROC curve for logistic regression with regularization\n",
    "y_probs_best = lr_best.predict_proba(X_test_std)[:,1]\n",
    "plot_roc(y_test,y_probs_best,logreg_best_auc,ax[1])\n",
    "ax[1].set_title('ROC curve (with regularization)')\n",
    "plt.tight_layout()"
   ]
  },
  {
   "cell_type": "markdown",
   "id": "cc91d256",
   "metadata": {},
   "source": [
    "# What other methods can be used to handle imbalanced datasets such as this one?"
   ]
  },
  {
   "cell_type": "markdown",
   "id": "6d76257b",
   "metadata": {},
   "source": [
    "**Random Under-Sampling**\n",
    "- Random Undersampling aims to balance class distribution by randomly eliminating majority class examples.  This is done until the majority and minority class instances are balanced out.\n",
    "\n",
    "**Random Over-Sampling**\n",
    "- Over-Sampling increases the number of instances in the minority class by randomly replicating them in order to present a higher representation of the minority class in the sample.\n",
    "\n",
    "**Cluster-Based Over Sampling**\n",
    "In this case, the K-means clustering algorithm is independently applied to minority and majority class instances. This is to identify clusters in the dataset. Subsequently, each cluster is oversampled such that all clusters of the same class have an equal number of instances and all classes have the same size.  \n",
    "\n",
    "**Informed Over Sampling: Synthetic Minority Over-sampling Technique for imbalanced data (SMOTE)**\n",
    "- This technique is followed to avoid overfitting which occurs when exact replicas of minority instances are added to the main dataset. A subset of data is taken from the minority class as an example and then new synthetic similar instances are created. These synthetic instances are then added to the original dataset. The new dataset is used as a sample to train the classification models.\n",
    "\n",
    "**Algorithmic Ensemble Techniques**\n",
    "- The main objective of ensemble methodology is to improve the performance of single classifiers. The approach involves constructing several two stage classifiers from the original data and then aggregate their predictions."
   ]
  },
  {
   "cell_type": "markdown",
   "id": "9cef4a0b",
   "metadata": {},
   "source": [
    "#### Example of few Imbalance Techniques"
   ]
  },
  {
   "cell_type": "markdown",
   "id": "7134df59",
   "metadata": {},
   "source": [
    "#### Strategy 1 - Vanilla Random Forest\n",
    "\n",
    "- No correction for imbalance"
   ]
  },
  {
   "cell_type": "code",
   "execution_count": 63,
   "id": "c85b9bb2",
   "metadata": {},
   "outputs": [
    {
     "data": {
      "text/plain": [
       "RandomForestClassifier(max_depth=2, n_estimators=5, random_state=22)"
      ]
     },
     "execution_count": 63,
     "metadata": {},
     "output_type": "execute_result"
    }
   ],
   "source": [
    "# Define a Random Forest classifier with randon_state as above\n",
    "random_state=22\n",
    "max_depth=10\n",
    "# Set the maximum depth to be max_depth and use 10 estimators\n",
    "random_forest = RandomForestClassifier(max_depth=2, random_state=22, n_estimators=5)\n",
    "\n",
    "# Fit the model on the training set\n",
    "random_forest.fit(X_train[imp_features], y_train)\n"
   ]
  },
  {
   "cell_type": "code",
   "execution_count": 64,
   "id": "7e02ca00",
   "metadata": {},
   "outputs": [],
   "source": [
    "# Use the trained model to predict on the validation set \n",
    "predictions = random_forest.predict(X_val_test[imp_features])\n",
    "\n",
    "# Compute two metrics that better represent misclassification of minority classes \n",
    "# i.e `F1 score` and `AUC`\n",
    "\n",
    "# Compute the F1-score and assign it to variable score1\n",
    "f_score = f1_score(y_val_test, predictions)\n",
    "score1 = round(f_score, 2)\n",
    "\n",
    "# Compute the AUC and assign it to variable auc1\n",
    "probas = random_forest.predict_proba(X_val_test[imp_features])[:,1]\n",
    "auc_score = roc_auc_score(y_val_test, probas)\n",
    "auc1 = round(auc_score, 2)\n"
   ]
  },
  {
   "cell_type": "markdown",
   "id": "377affe0",
   "metadata": {},
   "source": [
    "#### Strategy 2 - Random Forest with class weighting\n",
    "- Balancing the class imbalance in each bootstrap"
   ]
  },
  {
   "cell_type": "code",
   "execution_count": 65,
   "id": "252754e2",
   "metadata": {},
   "outputs": [
    {
     "data": {
      "text/plain": [
       "RandomForestClassifier(class_weight='balanced_subsample', max_depth=10,\n",
       "                       n_estimators=10, random_state=22)"
      ]
     },
     "execution_count": 65,
     "metadata": {},
     "output_type": "execute_result"
    }
   ],
   "source": [
    "# Define a Random Forest classifier with randon_state as above\n",
    "# Set the maximum depth to be max_depth and use 10 estimators\n",
    "# Use class_weight as balanced_subsample to weigh the class accordingly\n",
    "random_forest = RandomForestClassifier(max_depth=max_depth, random_state=random_state, n_estimators=10,class_weight='balanced_subsample')\n",
    "\n",
    "# Fit the model on the training se\n",
    "random_forest.fit(X_train[imp_features], y_train)\n"
   ]
  },
  {
   "cell_type": "code",
   "execution_count": 66,
   "id": "389e6082",
   "metadata": {},
   "outputs": [],
   "source": [
    "### edTest(test_balanced) ###\n",
    "\n",
    "# Use the trained model to predict on the validation set \n",
    "predictions = random_forest.predict(X_val_test[imp_features])\n",
    "\n",
    "# Compute two metrics that better represent misclassification of minority classes \n",
    "# i.e `F1 score` and `AUC`\n",
    "\n",
    "# Compute the F1-score and assign it to variable score2\n",
    "f_score = f1_score(y_val_test, predictions)\n",
    "score2 = round(f_score, 2)\n",
    "\n",
    "# Compute the AUC and assign it to variable auc2\n",
    "probas = random_forest.predict_proba(X_val_test[imp_features])[:,1]\n",
    "auc_score = roc_auc_score(y_val_test, probas)\n",
    "auc2 = round(auc_score, 2)\n"
   ]
  },
  {
   "cell_type": "markdown",
   "id": "09a7ff18",
   "metadata": {},
   "source": [
    "#### Strategy 3 - Balanced Random Forest with SMOTE \n",
    "\n",
    "- Using the **imblearn** `BalancedRandomForestClassifier()` \n",
    "- Read more about this implementation [here](https://imbalanced-learn.readthedocs.io/en/stable/generated/imblearn.ensemble.BalancedRandomForestClassifier.html)"
   ]
  },
  {
   "cell_type": "code",
   "execution_count": 67,
   "id": "16c34c3e",
   "metadata": {},
   "outputs": [],
   "source": [
    "# Perform upsampling using SMOTE\n",
    "\n",
    "# Define a SMOTE with random_state=2\n",
    "sm = SMOTE(random_state=2)\n",
    "\n",
    "# Use the SMOTE object to upsample the train data\n",
    "# You may have to use ravel() \n",
    "X_train_res, y_train_res = sm.fit_resample(X_train[imp_features], y_train.ravel())"
   ]
  },
  {
   "cell_type": "code",
   "execution_count": 68,
   "id": "93e4ec87",
   "metadata": {},
   "outputs": [
    {
     "data": {
      "text/plain": [
       "BalancedRandomForestClassifier(class_weight='balanced_subsample', max_depth=10,\n",
       "                               n_estimators=10, random_state=22)"
      ]
     },
     "execution_count": 68,
     "metadata": {},
     "output_type": "execute_result"
    }
   ],
   "source": [
    "# Define a Random Forest classifier with randon_state as above\n",
    "# Set the maximum depth to be max_depth and use 10 estimators\n",
    "# Use class_weight as balanced_subsample to weigh the class accordingly\n",
    "random_forest = BalancedRandomForestClassifier(max_depth=max_depth, random_state=random_state, n_estimators=10, class_weight='balanced_subsample')\n",
    "\n",
    "# Fit the Random Forest on upsampled data \n",
    "random_forest.fit(X_train_res, y_train_res)"
   ]
  },
  {
   "cell_type": "code",
   "execution_count": 69,
   "id": "3ab458de",
   "metadata": {},
   "outputs": [],
   "source": [
    "# Use the trained model to predict on the validation set \n",
    "predictions = random_forest.predict(X_val_test[imp_features])\n",
    "\n",
    "# Compute the F1-score and assign it to variable score3\n",
    "f_score = f1_score(y_val_test, predictions)\n",
    "score3 = round(f_score, 2)\n",
    "\n",
    "# Compute the AUC and assign it to variable auc3\n",
    "probas = random_forest.predict_proba(X_val_test[imp_features])[:,1]\n",
    "auc_score = roc_auc_score(y_val_test, probas)\n",
    "auc3 = round(auc_score, 2)"
   ]
  },
  {
   "cell_type": "markdown",
   "id": "dfb4269d",
   "metadata": {},
   "source": [
    "#### Strategy 4 - Downsample the data\n",
    "\n",
    "Using the imblearn RandomUnderSampler()."
   ]
  },
  {
   "cell_type": "code",
   "execution_count": 70,
   "id": "d3fa85cc",
   "metadata": {},
   "outputs": [],
   "source": [
    "# Define an RandomUnderSampler instance with random state as 2\n",
    "rs = RandomUnderSampler(random_state=2)\n",
    "\n",
    "# Downsample the train data\n",
    "# You may have to use ravel()\n",
    "X_train_res, y_train_res = rs.fit_resample(X_train[imp_features], y_train.ravel())\n"
   ]
  },
  {
   "cell_type": "code",
   "execution_count": 71,
   "id": "b71e43a7",
   "metadata": {},
   "outputs": [
    {
     "data": {
      "text/plain": [
       "RandomForestClassifier(class_weight='balanced_subsample', max_depth=10,\n",
       "                       n_estimators=10, random_state=22)"
      ]
     },
     "execution_count": 71,
     "metadata": {},
     "output_type": "execute_result"
    }
   ],
   "source": [
    "# Define a Random Forest classifier with randon_state as above\n",
    "# Set the maximum depth to be max_depth and use 10 estimators\n",
    "# Use class_weight as balanced_subsample to weigh the class accordingly\n",
    "random_forest = RandomForestClassifier(max_depth=max_depth, random_state=random_state, n_estimators=10,class_weight='balanced_subsample')\n",
    "\n",
    "# Fit the Random Forest on downsampled data \n",
    "random_forest.fit(X_train_res, y_train_res)\n"
   ]
  },
  {
   "cell_type": "code",
   "execution_count": 72,
   "id": "9ccb149b",
   "metadata": {},
   "outputs": [],
   "source": [
    "# Use the trained model to predict on the validation set \n",
    "predictions = random_forest.predict(X_val_test[imp_features])\n",
    "\n",
    "# Compute two metrics that better represent misclassification of minority classes \n",
    "# i.e `F1 score` and `AUC`\n",
    "\n",
    "# Compute the F1-score and assign it to variable score4\n",
    "f_score = f1_score(y_val_test, predictions)\n",
    "score4 = round(f_score, 2)\n",
    "\n",
    "# Compute the AUC and assign it to variable auc4\n",
    "probas = random_forest.predict_proba(X_val_test[imp_features])[:,1]\n",
    "auc_score = roc_auc_score(y_val_test, probas)\n",
    "auc4 = round(auc_score, 2)"
   ]
  },
  {
   "cell_type": "code",
   "execution_count": 73,
   "id": "3eebdc53",
   "metadata": {},
   "outputs": [
    {
     "name": "stdout",
     "output_type": "stream",
     "text": [
      "+-----------------------------------------+----------+-----------+\n",
      "|                 Strategy                | F1 Score | AUC score |\n",
      "+-----------------------------------------+----------+-----------+\n",
      "| Random Forest - No imbalance correction |   0.0    |    0.97   |\n",
      "|   Random Forest - balanced_subsamples   |   0.78   |    0.98   |\n",
      "|        Random Forest - Upsampling       |   0.77   |    0.98   |\n",
      "|       Random Forest - Downsampling      |   0.76   |    0.97   |\n",
      "+-----------------------------------------+----------+-----------+\n"
     ]
    }
   ],
   "source": [
    "# Compile the results from the implementations above\n",
    "\n",
    "pt = PrettyTable()\n",
    "pt.field_names = [\"Strategy\",\"F1 Score\",\"AUC score\"]\n",
    "pt.add_row([\"Random Forest - No imbalance correction\",score1,auc1])\n",
    "pt.add_row([\"Random Forest - balanced_subsamples\",score2,auc2])\n",
    "pt.add_row([\"Random Forest - Upsampling\",score3,auc3])\n",
    "pt.add_row([\"Random Forest - Downsampling\",score4,auc4])\n",
    "print(pt)\n"
   ]
  },
  {
   "cell_type": "markdown",
   "id": "9d8e8a55",
   "metadata": {},
   "source": [
    "<div class=\"alert alert-block alert-danger\" >\n",
    "When faced with imbalanced data sets there is no one stop solution to improve the accuracy of the prediction model.  One may need to try out multiple methods to figure out the best-suited sampling techniques for the dataset. In most cases, synthetic techniques like SMOTE and MSMOTE will outperform the conventional oversampling and undersampling methods.\n",
    "\n",
    "For better results, one can use synthetic sampling methods like SMOTE and MSMOTE along with advanced boosting methods like Gradient boosting and XG Boost.\n",
    "\n",
    "One of the advanced bagging techniques commonly used to counter the imbalanced dataset problem is SMOTE bagging. It follows an entirely different approach from conventional bagging to create each Bag/Bootstrap. It generates the positive instances by the SMOTE Algorithm by setting a SMOTE resampling rate in each iteration. The set of negative instances is bootstrapped in each iteration.\n",
    "\n",
    "Depending on the characteristics of the imbalanced data set, the most effective techniques will vary. Relevant evaluation parameters should be considered during the model comparison.\n",
    "\n",
    "While comparing multiple prediction models built through an exhaustive combination of the above-mentioned techniques Lift & Area under the ROC Curve will be instrumental in determining which model is superior to the others."
   ]
  },
  {
   "cell_type": "markdown",
   "id": "8b89c20e",
   "metadata": {},
   "source": [
    "# Communicating results to business"
   ]
  },
  {
   "cell_type": "markdown",
   "id": "d690a5a2",
   "metadata": {},
   "source": [
    "### how should the lift values be communicated to the business?"
   ]
  },
  {
   "cell_type": "markdown",
   "id": "2f1288cb",
   "metadata": {},
   "source": [
    "<div class=\"alert alert-block alert-danger\" >\n",
    "The lift could be interpreted as the gain ratio percentage to the random percentage at a given decile level. In a layman term, in decile 1, we have 10 means that when selecting 10% of the data based on the model, we could find the target (actual positive) 10 times more than the randomly selected 10% of the data without a model."
   ]
  },
  {
   "cell_type": "markdown",
   "id": "89e59494",
   "metadata": {},
   "source": [
    "# Few uses of the propensity model in an online store.How can the model be white-boxed to explain the importance of various features in the model?"
   ]
  },
  {
   "cell_type": "markdown",
   "id": "97409877",
   "metadata": {},
   "source": [
    "<div class=\"alert alert-block alert-danger\" >\n",
    "    \n",
    "Propensity modeling attempts to predict the likelihood that visitors, leads, and customers will perform certain actions. It’s a statistical approach that accounts for all the independent and confounding variables that affect said behavior.\n",
    "\n",
    "So, for example, propensity modeling can help a marketing team predict the likelihood that a lead will convert to a customer. Or that a customer will churn. Or even that an email recipient will unsubscribe.\n",
    "\n",
    "The propensity score, then, is the probability that the visitor, lead, or customer will perform a certain action. \n",
    "\n",
    "\n",
    "The first step is to actually pick a model because you have a few options. For example, instead of measuring propensity to churn, you could choose a survival analysis.\n",
    "\n",
    "Regression is a good option because it’s very interpretable for non-technical audiences, which means it can be communicated easily.\n",
    "\n",
    "It’s also less of a black box, making the risk more manageable. If something goes wrong and accuracy is low or you get an unexpected result, it’s easy to drill down to the formula and figure out how to fix it."
   ]
  }
 ],
 "metadata": {
  "kernelspec": {
   "display_name": "Python 3",
   "language": "python",
   "name": "python3"
  },
  "language_info": {
   "codemirror_mode": {
    "name": "ipython",
    "version": 3
   },
   "file_extension": ".py",
   "mimetype": "text/x-python",
   "name": "python",
   "nbconvert_exporter": "python",
   "pygments_lexer": "ipython3",
   "version": "3.6.9"
  },
  "varInspector": {
   "cols": {
    "lenName": 16,
    "lenType": 16,
    "lenVar": 40
   },
   "kernels_config": {
    "python": {
     "delete_cmd_postfix": "",
     "delete_cmd_prefix": "del ",
     "library": "var_list.py",
     "varRefreshCmd": "print(var_dic_list())"
    },
    "r": {
     "delete_cmd_postfix": ") ",
     "delete_cmd_prefix": "rm(",
     "library": "var_list.r",
     "varRefreshCmd": "cat(var_dic_list()) "
    }
   },
   "types_to_exclude": [
    "module",
    "function",
    "builtin_function_or_method",
    "instance",
    "_Feature"
   ],
   "window_display": false
  }
 },
 "nbformat": 4,
 "nbformat_minor": 5
}
